{
 "cells": [
  {
   "cell_type": "markdown",
   "metadata": {
    "slideshow": {
     "slide_type": "slide"
    }
   },
   "source": [
    "# Introduction to NLTK\n",
    "\n",
    "Use computers to identify patterns in language and textual data"
   ]
  },
  {
   "cell_type": "markdown",
   "metadata": {
    "slideshow": {
     "slide_type": "slide"
    }
   },
   "source": [
    "## Orientation: Where am I?\n",
    "<img src='res/launch_1.jpg'>\n",
    "\n",
    "\n",
    "<i>Credits: Kerbal space program: Falcon 9 Space X</i>"
   ]
  },
  {
   "cell_type": "markdown",
   "metadata": {
    "slideshow": {
     "slide_type": "slide"
    }
   },
   "source": [
    "## Our command module: Interactive python (IPython) with Jupyter Notebooks\n",
    "\n",
    "\n",
    "Let's play around with our environment:\n",
    "- Setting up and get ready with [Anaconda](https://www.continuum.io/downloads). It's free. \n",
    "- What is a notebook?\n",
    "- What can I do in the cells?\n",
    "- Most used features"
   ]
  },
  {
   "cell_type": "markdown",
   "metadata": {
    "slideshow": {
     "slide_type": "slide"
    }
   },
   "source": [
    "### Challenge: Explore the jupyter notebooks\n",
    "- Open the notebook [material](http://a.com) or make a copy for you in the cloud\n",
    "- Add 5 cells to the notebook\n",
    "- Delete 3 cells\n",
    "- Type \"Hello world\" inside the last emtpy cell and run it (we will learn how to to put more things inside Next!)\n",
    "- Move the cell to be the first\n"
   ]
  },
  {
   "cell_type": "markdown",
   "metadata": {
    "slideshow": {
     "slide_type": "slide"
    }
   },
   "source": [
    "Now we know where we are standing... few comments:\n",
    "\n",
    "1. The main strength of IPython is that you can run bits of code individually\n",
    "2. IPython allows you to display images alongside code, and to save the input and output together.\n",
    "3. IPython makes learning a bit easier, as mistakes are easier to find and do not break an entire workflow."
   ]
  },
  {
   "cell_type": "markdown",
   "metadata": {
    "slideshow": {
     "slide_type": "slide"
    }
   },
   "source": [
    "### Wait.. what is python?\n",
    "\n",
    "<img src='res/missionpython_cover.png'>\n",
    "\n",
    "Python is easy-to-use programming language and comes with handy / efficient tools to manipulate linguistic data. We  will learn just the basics to perform reproducible research. "
   ]
  },
  {
   "cell_type": "markdown",
   "metadata": {
    "slideshow": {
     "slide_type": "slide"
    }
   },
   "source": [
    "## What is the Natural Language Toolkit?\n",
    "<img src='res/NLTK.png'>\n",
    "\n",
    "NLTK is a Python Library for working with written language data. "
   ]
  },
  {
   "cell_type": "markdown",
   "metadata": {
    "slideshow": {
     "slide_type": "slide"
    }
   },
   "source": [
    "##### NLTK is free and extensively documented [here](http://www.nltk.org/).\n",
    "> Note: NLTK provides tools for tasks ranging from very simple (counting words in a text) to very complex (writing and training parsers, etc.)\n",
    "\n",
    "We will start by importing NLTK, setting a path to NLTK resources, and downloading some additional stuff."
   ]
  },
  {
   "cell_type": "code",
   "execution_count": 1,
   "metadata": {
    "slideshow": {
     "slide_type": "slide"
    }
   },
   "outputs": [
    {
     "name": "stdout",
     "output_type": "stream",
     "text": [
      "*** Introductory Examples for the NLTK Book ***\n",
      "Loading text1, ..., text9 and sent1, ..., sent9\n",
      "Type the name of the text or sentence to view it.\n",
      "Type: 'texts()' or 'sents()' to list the materials.\n",
      "text1: Moby Dick by Herman Melville 1851\n",
      "text2: Sense and Sensibility by Jane Austen 1811\n",
      "text3: The Book of Genesis\n",
      "text4: Inaugural Address Corpus\n",
      "text5: Chat Corpus\n",
      "text6: Monty Python and the Holy Grail\n",
      "text7: Wall Street Journal\n",
      "text8: Personals Corpus\n",
      "text9: The Man Who Was Thursday by G . K . Chesterton 1908\n"
     ]
    }
   ],
   "source": [
    "# import nltk library\n",
    "import nltk"
   ]
  },
  {
   "cell_type": "markdown",
   "metadata": {
    "slideshow": {
     "slide_type": "slide"
    }
   },
   "source": [
    "We need some data to experiment with... "
   ]
  },
  {
   "cell_type": "code",
   "execution_count": 4,
   "metadata": {
    "slideshow": {
     "slide_type": "slide"
    }
   },
   "outputs": [
    {
     "data": {
      "text/plain": [
       "['!',\n",
       " '!\"',\n",
       " '!\"--',\n",
       " \"!'\",\n",
       " '!\\'\"',\n",
       " '!)',\n",
       " '!)\"',\n",
       " '!*',\n",
       " '!--',\n",
       " '!--\"',\n",
       " \"!--'\",\n",
       " '\"',\n",
       " '\"\\'',\n",
       " '\"--',\n",
       " '\"...',\n",
       " '\";',\n",
       " '$',\n",
       " '&',\n",
       " \"'\",\n",
       " \"',\",\n",
       " \"',--\",\n",
       " \"'-\",\n",
       " \"'--\",\n",
       " \"';\",\n",
       " '(',\n",
       " ')',\n",
       " '),',\n",
       " ')--',\n",
       " ').',\n",
       " ').--',\n",
       " '):',\n",
       " ');',\n",
       " ');--',\n",
       " '*',\n",
       " ',',\n",
       " ',\"',\n",
       " ',\"--',\n",
       " \",'\",\n",
       " \",'--\",\n",
       " ',)',\n",
       " ',*',\n",
       " ',--',\n",
       " ',--\"',\n",
       " \",--'\",\n",
       " '-',\n",
       " '--',\n",
       " '--\"',\n",
       " \"--'\",\n",
       " '--\\'\"',\n",
       " '--(',\n",
       " '---\"',\n",
       " '---,',\n",
       " '.',\n",
       " '.\"',\n",
       " '.\"*',\n",
       " '.\"--',\n",
       " \".'\",\n",
       " '.\\'\"',\n",
       " '.)',\n",
       " '.*',\n",
       " '.*--',\n",
       " '.,',\n",
       " '.--',\n",
       " '.--\"',\n",
       " '...',\n",
       " '....',\n",
       " '.]',\n",
       " '000',\n",
       " '1',\n",
       " '10',\n",
       " '100',\n",
       " '101',\n",
       " '102',\n",
       " '103',\n",
       " '104',\n",
       " '105',\n",
       " '106',\n",
       " '107',\n",
       " '108',\n",
       " '109',\n",
       " '11',\n",
       " '110',\n",
       " '111',\n",
       " '112',\n",
       " '113',\n",
       " '114',\n",
       " '115',\n",
       " '116',\n",
       " '117',\n",
       " '118',\n",
       " '119',\n",
       " '12',\n",
       " '120',\n",
       " '121',\n",
       " '122',\n",
       " '123',\n",
       " '124',\n",
       " '125',\n",
       " '126',\n",
       " '127',\n",
       " '128',\n",
       " '129',\n",
       " '13',\n",
       " '130',\n",
       " '131',\n",
       " '132',\n",
       " '133',\n",
       " '134',\n",
       " '135',\n",
       " '14',\n",
       " '144',\n",
       " '1492',\n",
       " '15',\n",
       " '150',\n",
       " '15th',\n",
       " '16',\n",
       " '1652',\n",
       " '1668',\n",
       " '1671',\n",
       " '1690',\n",
       " '1695',\n",
       " '16th',\n",
       " '17',\n",
       " '1726',\n",
       " '1729',\n",
       " '1750',\n",
       " '1772',\n",
       " '1775',\n",
       " '1776',\n",
       " '1778',\n",
       " '1779',\n",
       " '1788',\n",
       " '1791',\n",
       " '1793',\n",
       " '18',\n",
       " '180',\n",
       " '1807',\n",
       " '1819',\n",
       " '1820',\n",
       " '1821',\n",
       " '1825',\n",
       " '1828',\n",
       " '1833',\n",
       " '1836',\n",
       " '1839',\n",
       " '1840',\n",
       " '1842',\n",
       " '1846',\n",
       " '1850',\n",
       " '1851',\n",
       " '19',\n",
       " '1ST',\n",
       " '1st',\n",
       " '2',\n",
       " '20',\n",
       " '2000',\n",
       " '200th',\n",
       " '21',\n",
       " '21st',\n",
       " '22',\n",
       " '23',\n",
       " '24',\n",
       " '25',\n",
       " '26',\n",
       " '27',\n",
       " '275th',\n",
       " '28',\n",
       " '29',\n",
       " '2ND',\n",
       " '3',\n",
       " '30',\n",
       " '31',\n",
       " '31st',\n",
       " '32',\n",
       " '33',\n",
       " '34',\n",
       " '35',\n",
       " '36',\n",
       " '37',\n",
       " '38',\n",
       " '39',\n",
       " '3D',\n",
       " '3d',\n",
       " '4',\n",
       " '40',\n",
       " '400',\n",
       " '41',\n",
       " '42',\n",
       " '43',\n",
       " '44',\n",
       " '440',\n",
       " '45',\n",
       " '46',\n",
       " '47',\n",
       " '48',\n",
       " '49',\n",
       " '4TH',\n",
       " '5',\n",
       " '50',\n",
       " '500',\n",
       " '51',\n",
       " '52',\n",
       " '53',\n",
       " '54',\n",
       " '55',\n",
       " '550',\n",
       " '56',\n",
       " '57',\n",
       " '58',\n",
       " '59',\n",
       " '5TH',\n",
       " '6',\n",
       " '60',\n",
       " '61',\n",
       " '62',\n",
       " '63',\n",
       " '64',\n",
       " '65',\n",
       " '66',\n",
       " '67',\n",
       " '68',\n",
       " '69',\n",
       " '7',\n",
       " '70',\n",
       " '71',\n",
       " '72',\n",
       " '73',\n",
       " '74',\n",
       " '75',\n",
       " '76',\n",
       " '77',\n",
       " '78',\n",
       " '79',\n",
       " '8',\n",
       " '80',\n",
       " '800',\n",
       " '81',\n",
       " '82',\n",
       " '83',\n",
       " '84',\n",
       " '85',\n",
       " '86',\n",
       " '87',\n",
       " '88',\n",
       " '89',\n",
       " '890',\n",
       " '9',\n",
       " '90',\n",
       " '91',\n",
       " '92',\n",
       " '93',\n",
       " '94',\n",
       " '95',\n",
       " '96',\n",
       " '97',\n",
       " '98',\n",
       " '99',\n",
       " ':',\n",
       " ':\"-',\n",
       " ':--',\n",
       " ':--\"',\n",
       " \":--'\",\n",
       " ';',\n",
       " ';\"',\n",
       " ';\"--',\n",
       " ';\"--(',\n",
       " \";'\",\n",
       " ';*',\n",
       " ';--',\n",
       " ';--\"',\n",
       " \";--'\",\n",
       " '?',\n",
       " '?\"',\n",
       " '?\"--',\n",
       " \"?'\",\n",
       " \"?'--'\",\n",
       " '?--',\n",
       " '?--\"',\n",
       " \"?--'\",\n",
       " 'A',\n",
       " 'ABOUT',\n",
       " 'ACCOUNT',\n",
       " 'ADDITIONAL',\n",
       " 'ADVANCING',\n",
       " 'ADVENTURES',\n",
       " 'AFFGHANISTAN',\n",
       " 'AFRICA',\n",
       " 'AFTER',\n",
       " 'AGAINST',\n",
       " 'AHAB',\n",
       " 'ALFRED',\n",
       " 'ALGERINE',\n",
       " 'ALIVE',\n",
       " 'ALL',\n",
       " 'ALONE',\n",
       " 'AM',\n",
       " 'AMERICA',\n",
       " 'AMONG',\n",
       " 'ANCHORS',\n",
       " 'AND',\n",
       " 'ANGLO',\n",
       " 'ANIMAL',\n",
       " 'ANNALS',\n",
       " 'ANNUS',\n",
       " 'ANOTHER',\n",
       " 'ANY',\n",
       " 'APOLOGY',\n",
       " 'APPLICATION',\n",
       " 'APPROACHING',\n",
       " 'ARCTIC',\n",
       " 'ARE',\n",
       " 'AROUND',\n",
       " 'AS',\n",
       " 'ASCENDING',\n",
       " 'ASIA',\n",
       " 'ASIDE',\n",
       " 'ASPECT',\n",
       " 'AT',\n",
       " 'ATTACK',\n",
       " 'ATTACKED',\n",
       " 'ATTITUDES',\n",
       " 'AUGUST',\n",
       " 'AUTHOR',\n",
       " 'AZORE',\n",
       " 'Abashed',\n",
       " 'Abednego',\n",
       " 'Abel',\n",
       " 'Abjectus',\n",
       " 'Aboard',\n",
       " 'Abominable',\n",
       " 'About',\n",
       " 'Above',\n",
       " 'Abraham',\n",
       " 'Academy',\n",
       " 'Accessory',\n",
       " 'According',\n",
       " 'Accordingly',\n",
       " 'Accursed',\n",
       " 'Achilles',\n",
       " 'Actium',\n",
       " 'Acushnet',\n",
       " 'Adam',\n",
       " 'Adieu',\n",
       " 'Adios',\n",
       " 'Admiral',\n",
       " 'Admirals',\n",
       " 'Advance',\n",
       " 'Advancement',\n",
       " 'Adventures',\n",
       " 'Adverse',\n",
       " 'Advocate',\n",
       " 'Affected',\n",
       " 'Affidavit',\n",
       " 'Affrighted',\n",
       " 'Afric',\n",
       " 'Africa',\n",
       " 'African',\n",
       " 'Africans',\n",
       " 'Aft',\n",
       " 'After',\n",
       " 'Afterwards',\n",
       " 'Again',\n",
       " 'Against',\n",
       " 'Agassiz',\n",
       " 'Ages',\n",
       " 'Ah',\n",
       " 'Ahab',\n",
       " 'Ahabs',\n",
       " 'Ahasuerus',\n",
       " 'Ahaz',\n",
       " 'Ahoy',\n",
       " 'Ain',\n",
       " 'Air',\n",
       " 'Akin',\n",
       " 'Alabama',\n",
       " 'Aladdin',\n",
       " 'Alarmed',\n",
       " 'Alas',\n",
       " 'Albatross',\n",
       " 'Albemarle',\n",
       " 'Albert',\n",
       " 'Albicore',\n",
       " 'Albino',\n",
       " 'Aldrovandi',\n",
       " 'Aldrovandus',\n",
       " 'Alexander',\n",
       " 'Alexanders',\n",
       " 'Alfred',\n",
       " 'Algerine',\n",
       " 'Algiers',\n",
       " 'Alike',\n",
       " 'Alive',\n",
       " 'All',\n",
       " 'Alleghanian',\n",
       " 'Alleghanies',\n",
       " 'Alley',\n",
       " 'Almanack',\n",
       " 'Almighty',\n",
       " 'Almost',\n",
       " 'Aloft',\n",
       " 'Alone',\n",
       " 'Alps',\n",
       " 'Already',\n",
       " 'Also',\n",
       " 'Am',\n",
       " 'Ambergriese',\n",
       " 'Ambergris',\n",
       " 'Amelia',\n",
       " 'America',\n",
       " 'American',\n",
       " 'Americans',\n",
       " 'Americas',\n",
       " 'Amittai',\n",
       " 'Among',\n",
       " 'Amsterdam',\n",
       " 'An',\n",
       " 'Anacharsis',\n",
       " 'Anak',\n",
       " 'Anatomist',\n",
       " 'And',\n",
       " 'Andes',\n",
       " 'Andrew',\n",
       " 'Andromeda',\n",
       " 'Angel',\n",
       " 'Angelo',\n",
       " 'Angels',\n",
       " 'Animated',\n",
       " 'Annawon',\n",
       " 'Anne',\n",
       " 'Anno',\n",
       " 'Anomalous',\n",
       " 'Another',\n",
       " 'Answer',\n",
       " 'Antarctic',\n",
       " 'Antilles',\n",
       " 'Antiochus',\n",
       " 'Antony',\n",
       " 'Antwerp',\n",
       " 'Anvil',\n",
       " 'Any',\n",
       " 'Anyhow',\n",
       " 'Anything',\n",
       " 'Anyway',\n",
       " 'Apollo',\n",
       " 'Apoplexy',\n",
       " 'Applied',\n",
       " 'Apply',\n",
       " 'April',\n",
       " 'Aquarius',\n",
       " 'Arch',\n",
       " 'Archbishop',\n",
       " 'Arched',\n",
       " 'Archer',\n",
       " 'Archipelagoes',\n",
       " 'Archy',\n",
       " 'Arctic',\n",
       " 'Are',\n",
       " 'Arethusa',\n",
       " 'Argo',\n",
       " 'Aries',\n",
       " 'Arion',\n",
       " 'Aristotle',\n",
       " 'Ark',\n",
       " 'Arkansas',\n",
       " 'Arkite',\n",
       " 'Arm',\n",
       " 'Armada',\n",
       " 'Arnold',\n",
       " 'Aroostook',\n",
       " 'Around',\n",
       " 'Arrayed',\n",
       " 'Arrived',\n",
       " 'Arsacidean',\n",
       " 'Arsacides',\n",
       " 'Art',\n",
       " 'Artedi',\n",
       " 'Arter',\n",
       " 'Articles',\n",
       " 'As',\n",
       " 'Asa',\n",
       " 'Ashantee',\n",
       " 'Ashore',\n",
       " 'Asia',\n",
       " 'Asiatic',\n",
       " 'Asiatics',\n",
       " 'Aside',\n",
       " 'Asphaltites',\n",
       " 'Assaulted',\n",
       " 'Assume',\n",
       " 'Assuming',\n",
       " 'Assuredly',\n",
       " 'Assyrian',\n",
       " 'Astern',\n",
       " 'Astir',\n",
       " 'Astronomy',\n",
       " 'At',\n",
       " 'Atlantic',\n",
       " 'Atlantics',\n",
       " 'Attached',\n",
       " 'Attend',\n",
       " 'August',\n",
       " 'Aunt',\n",
       " 'Australia',\n",
       " 'Australian',\n",
       " 'Austrian',\n",
       " 'Author',\n",
       " 'Authors',\n",
       " 'Auto',\n",
       " 'Availing',\n",
       " 'Avast',\n",
       " 'Avatar',\n",
       " 'Aware',\n",
       " 'Away',\n",
       " 'Awful',\n",
       " 'Ay',\n",
       " 'Aye',\n",
       " 'Azores',\n",
       " 'BACK',\n",
       " 'BACKED',\n",
       " 'BACON',\n",
       " 'BALEINE',\n",
       " 'BALLENA',\n",
       " 'BANKS',\n",
       " 'BARON',\n",
       " 'BATTLE',\n",
       " 'BE',\n",
       " 'BEALE',\n",
       " 'BEFORE',\n",
       " 'BEING',\n",
       " 'BELFAST',\n",
       " 'BELOW',\n",
       " 'BENCH',\n",
       " 'BENNETT',\n",
       " 'BERMUDAS',\n",
       " 'BETWEEN',\n",
       " 'BEWARE',\n",
       " 'BIOGRAPHY',\n",
       " 'BIT',\n",
       " 'BLACK',\n",
       " 'BLACKSMITH',\n",
       " 'BLACKSTONE',\n",
       " 'BLOOD',\n",
       " 'BLOODY',\n",
       " 'BLOWS',\n",
       " 'BOARD',\n",
       " 'BOAT',\n",
       " 'BOATS',\n",
       " 'BOOK',\n",
       " 'BOOKS',\n",
       " 'BOSOM',\n",
       " 'BOTTOM',\n",
       " 'BOUTON',\n",
       " 'BRACE',\n",
       " 'BRACTON',\n",
       " 'BREACH',\n",
       " 'BREAKERS',\n",
       " 'BREAKWATER',\n",
       " 'BRIT',\n",
       " 'BROKE',\n",
       " 'BROTHER',\n",
       " 'BROWN',\n",
       " 'BROWNE',\n",
       " 'BURKE',\n",
       " 'BURST',\n",
       " 'BUSILY',\n",
       " 'BY',\n",
       " 'Babel',\n",
       " 'Babylon',\n",
       " 'Babylonian',\n",
       " 'Bachelor',\n",
       " 'Back',\n",
       " 'Backs',\n",
       " 'Bad',\n",
       " 'Baden',\n",
       " 'Bag',\n",
       " 'Balaene',\n",
       " 'Baliene',\n",
       " 'Baling',\n",
       " 'Bally',\n",
       " 'Baltic',\n",
       " 'Baltimore',\n",
       " 'Bamboo',\n",
       " 'Bang',\n",
       " 'Banks',\n",
       " 'Barbary',\n",
       " 'Bare',\n",
       " 'Bargain',\n",
       " 'Baron',\n",
       " 'Barrens',\n",
       " 'Bartholomew',\n",
       " 'Base',\n",
       " 'Bashaw',\n",
       " 'Bashee',\n",
       " 'Basilosaurus',\n",
       " 'Bastille',\n",
       " 'Battering',\n",
       " 'Battery',\n",
       " 'Bay',\n",
       " 'Bays',\n",
       " 'Be',\n",
       " 'Beach',\n",
       " 'Beale',\n",
       " 'Beams',\n",
       " 'Bear',\n",
       " 'Bears',\n",
       " 'Beat',\n",
       " 'Because',\n",
       " 'Becket',\n",
       " 'Bedford',\n",
       " 'Beelzebub',\n",
       " 'Befooled',\n",
       " 'Before',\n",
       " 'Begone',\n",
       " 'Behold',\n",
       " 'Behring',\n",
       " 'Being',\n",
       " 'Belated',\n",
       " 'Belial',\n",
       " 'Believe',\n",
       " 'Belisarius',\n",
       " 'Bell',\n",
       " 'Bellies',\n",
       " 'Beloved',\n",
       " 'Below',\n",
       " 'Belshazzar',\n",
       " 'Belubed',\n",
       " 'Bench',\n",
       " 'Bendigoes',\n",
       " 'Beneath',\n",
       " 'Bengal',\n",
       " 'Benjamin',\n",
       " 'Bennett',\n",
       " 'Bentham',\n",
       " 'Berkshire',\n",
       " 'Berlin',\n",
       " 'Bernard',\n",
       " 'Besides',\n",
       " 'Bess',\n",
       " 'Best',\n",
       " 'Bestow',\n",
       " 'Bethink',\n",
       " 'Better',\n",
       " 'Betty',\n",
       " 'Between',\n",
       " 'Beware',\n",
       " 'Beyond',\n",
       " 'Bible',\n",
       " 'Bibles',\n",
       " 'Bibliographical',\n",
       " 'Bildad',\n",
       " 'Biographical',\n",
       " 'Birmah',\n",
       " 'Bishop',\n",
       " 'Bite',\n",
       " 'Black',\n",
       " 'Blacksmith',\n",
       " 'Blackstone',\n",
       " 'Blanc',\n",
       " 'Blanche',\n",
       " 'Blanco',\n",
       " 'Blang',\n",
       " 'Blanket',\n",
       " 'Blast',\n",
       " 'Bless',\n",
       " 'Blind',\n",
       " 'Blinding',\n",
       " 'Blocksburg',\n",
       " 'Blood',\n",
       " 'Bloody',\n",
       " 'Blue',\n",
       " 'Boat',\n",
       " 'Boats',\n",
       " 'Bobbing',\n",
       " 'Bolivia',\n",
       " 'Bombay',\n",
       " 'Bonapartes',\n",
       " 'Bone',\n",
       " 'Bones',\n",
       " 'Bonneterre',\n",
       " 'Booble',\n",
       " 'Book',\n",
       " 'Boomer',\n",
       " 'Boone',\n",
       " 'Bordeaux',\n",
       " 'Borean',\n",
       " 'Born',\n",
       " 'Borneo',\n",
       " 'Bosom',\n",
       " 'Boston',\n",
       " 'Both',\n",
       " 'Bottle',\n",
       " 'Bottom',\n",
       " 'Bourbons',\n",
       " 'Bout',\n",
       " 'Bouton',\n",
       " 'Bowditch',\n",
       " 'Bower',\n",
       " 'Boy',\n",
       " 'Boys',\n",
       " 'Brace',\n",
       " 'Brahma',\n",
       " 'Brahmins',\n",
       " 'Brandreth',\n",
       " 'Brazil',\n",
       " 'Breakfast',\n",
       " 'Bremen',\n",
       " 'Bress',\n",
       " 'Bridge',\n",
       " 'Brighggians',\n",
       " 'Bright',\n",
       " 'Bring',\n",
       " 'Brisson',\n",
       " 'Brit',\n",
       " 'Britain',\n",
       " 'British',\n",
       " 'Britons',\n",
       " 'Broad',\n",
       " 'Broadway',\n",
       " 'Broke',\n",
       " 'Brother',\n",
       " 'Browne',\n",
       " 'Brute',\n",
       " 'Buckets',\n",
       " 'Bud',\n",
       " 'Buffalo',\n",
       " 'Bulkington',\n",
       " 'Bull',\n",
       " 'Bulwarks',\n",
       " 'Bunger',\n",
       " 'Bungle',\n",
       " 'Bunyan',\n",
       " 'Buoy',\n",
       " 'Buoyed',\n",
       " 'Burke',\n",
       " 'Burkes',\n",
       " 'Burst',\n",
       " 'Burton',\n",
       " 'Burtons',\n",
       " 'Business',\n",
       " 'But',\n",
       " 'Butchers',\n",
       " 'Butler',\n",
       " 'By',\n",
       " 'Byward',\n",
       " 'C',\n",
       " 'CABIN',\n",
       " 'CABINET',\n",
       " 'CANNY',\n",
       " 'CAP',\n",
       " 'CAPTAIN',\n",
       " 'CAPTAINS',\n",
       " 'CAPTORS',\n",
       " 'CARPENTER',\n",
       " 'CATCHES',\n",
       " 'CAULKING',\n",
       " 'CEASE',\n",
       " 'CETI',\n",
       " 'CETUS',\n",
       " 'CHACE',\n",
       " 'CHAPTER',\n",
       " 'CHAPTERS',\n",
       " 'CHARLES',\n",
       " 'CHEERLY',\n",
       " 'CHEEVER',\n",
       " 'CHIEF',\n",
       " 'CHINA',\n",
       " 'CHOP',\n",
       " 'CHORUS',\n",
       " 'CHRONICLER',\n",
       " 'CIRCUMNAVIGATION',\n",
       " 'CLEAN',\n",
       " 'CLOSES',\n",
       " 'CLUSTERS',\n",
       " 'COFFIN',\n",
       " 'COILS',\n",
       " 'COLEMAN',\n",
       " 'COLL',\n",
       " 'COLNETT',\n",
       " 'COMES',\n",
       " 'COMMERCIAL',\n",
       " 'COMMODORE',\n",
       " 'COMSTOCK',\n",
       " 'CONTESTED',\n",
       " 'CONTINUES',\n",
       " 'CONVERSATIONS',\n",
       " 'COOK',\n",
       " 'COOPER',\n",
       " 'COWLEY',\n",
       " 'COWPER',\n",
       " 'CREWS',\n",
       " 'CROW',\n",
       " 'CRUISE',\n",
       " 'CRUISING',\n",
       " 'CRUIZE',\n",
       " 'CURRENTS',\n",
       " 'CUVIER',\n",
       " 'Cabaco',\n",
       " 'Cabin',\n",
       " 'Cachalot',\n",
       " 'Cadiz',\n",
       " 'Caesar',\n",
       " 'Caesarian',\n",
       " 'Cain',\n",
       " 'Calais',\n",
       " 'Californian',\n",
       " 'Call',\n",
       " 'Callao',\n",
       " 'Cambyses',\n",
       " 'Camel',\n",
       " 'Campagna',\n",
       " 'Can',\n",
       " 'Canaan',\n",
       " 'Canada',\n",
       " 'Canadian',\n",
       " 'Canal',\n",
       " 'Canaller',\n",
       " 'Canallers',\n",
       " 'Canals',\n",
       " 'Canaris',\n",
       " 'Cancer',\n",
       " 'Candles',\n",
       " 'Cannibal',\n",
       " 'Cannibals',\n",
       " 'Cannon',\n",
       " 'Canst',\n",
       " 'Cant',\n",
       " 'Canterbury',\n",
       " 'Cap',\n",
       " 'Cape',\n",
       " 'Capes',\n",
       " 'Capricornus',\n",
       " 'Captain',\n",
       " 'Captains',\n",
       " 'Capting',\n",
       " 'Caramba',\n",
       " 'Careful',\n",
       " 'Carefully',\n",
       " 'Carey',\n",
       " 'Carpenter',\n",
       " 'Carpet',\n",
       " 'Carrol',\n",
       " 'Carson',\n",
       " 'Carthage',\n",
       " 'Caryatid',\n",
       " 'Case',\n",
       " 'Cash',\n",
       " 'Cassock',\n",
       " 'Castaway',\n",
       " 'Castle',\n",
       " 'Categut',\n",
       " 'Cathedral',\n",
       " 'Catholic',\n",
       " 'Cato',\n",
       " 'Catskill',\n",
       " 'Cattegat',\n",
       " 'Caught',\n",
       " 'Cave',\n",
       " 'Caw',\n",
       " 'Cellini',\n",
       " 'Central',\n",
       " 'Certain',\n",
       " 'Certainly',\n",
       " 'Cervantes',\n",
       " 'Cetacea',\n",
       " 'Cetacean',\n",
       " 'Cetology',\n",
       " 'Cetus',\n",
       " 'Ceylon',\n",
       " 'Chace',\n",
       " 'Chaldee',\n",
       " 'Champagne',\n",
       " 'Champollion',\n",
       " 'Channel',\n",
       " 'Chapel',\n",
       " 'Charing',\n",
       " 'Charity',\n",
       " 'Charlemagne',\n",
       " 'Charley',\n",
       " 'Chart',\n",
       " 'Chartering',\n",
       " 'Chase',\n",
       " 'Cheever',\n",
       " 'Cherries',\n",
       " 'Chestnut',\n",
       " 'Chief',\n",
       " 'Childe',\n",
       " 'Chili',\n",
       " 'Chilian',\n",
       " 'China',\n",
       " 'Chinese',\n",
       " 'Cholo',\n",
       " 'Chowder',\n",
       " 'Christ',\n",
       " 'Christendom',\n",
       " 'Christian',\n",
       " 'Christianity',\n",
       " 'Christians',\n",
       " 'Christmas',\n",
       " 'Church',\n",
       " 'Cinque',\n",
       " 'Circassian',\n",
       " 'Circumambulate',\n",
       " 'Cistern',\n",
       " 'Civitas',\n",
       " 'Clam',\n",
       " 'Clap',\n",
       " 'Claus',\n",
       " 'Clay',\n",
       " 'Clear',\n",
       " 'Clearing',\n",
       " 'Cleopatra',\n",
       " 'Cleveland',\n",
       " 'Clifford',\n",
       " 'Clinging',\n",
       " 'Clootz',\n",
       " 'Close',\n",
       " 'Closing',\n",
       " 'Cloud',\n",
       " 'Cluny',\n",
       " 'Coast',\n",
       " 'Cock',\n",
       " 'Cockatoo',\n",
       " 'Cod',\n",
       " 'Cods',\n",
       " 'Coenties',\n",
       " 'Coffin',\n",
       " 'Coffins',\n",
       " 'Cognac',\n",
       " 'Coke',\n",
       " 'Cold',\n",
       " 'Coleman',\n",
       " 'Coleridge',\n",
       " 'College',\n",
       " 'Colnett',\n",
       " 'Cologne',\n",
       " 'Colonies',\n",
       " 'Colossus',\n",
       " 'Columbus',\n",
       " 'Come',\n",
       " 'Coming',\n",
       " 'Commanded',\n",
       " 'Commanders',\n",
       " 'Commend',\n",
       " 'Commodore',\n",
       " 'Commodores',\n",
       " 'Common',\n",
       " 'Commonly',\n",
       " 'Commons',\n",
       " 'Commonwealth',\n",
       " 'Companies',\n",
       " 'Comparing',\n",
       " 'Concerning',\n",
       " 'Congo',\n",
       " 'Congregation',\n",
       " 'Congregational',\n",
       " 'Conjuror',\n",
       " 'Connecticut',\n",
       " 'Consequently',\n",
       " 'Consider',\n",
       " 'Considering',\n",
       " 'Constable',\n",
       " 'Constantine',\n",
       " 'Constantinople',\n",
       " 'Consumptive',\n",
       " 'Continents',\n",
       " 'Contrasted',\n",
       " 'Conversation',\n",
       " 'Convulsively',\n",
       " 'Cook',\n",
       " 'Cooke',\n",
       " 'Cooks',\n",
       " 'Cooper',\n",
       " 'Coopman',\n",
       " 'Copenhagen',\n",
       " 'Coppered',\n",
       " 'Corinthians',\n",
       " 'Corkscrew',\n",
       " 'Corlaer',\n",
       " 'Corlears',\n",
       " 'Coronation',\n",
       " 'Corresponding',\n",
       " 'Corrupt',\n",
       " 'Cough',\n",
       " 'Could',\n",
       " 'Count',\n",
       " 'Counterpane',\n",
       " 'County',\n",
       " 'Court',\n",
       " 'Cousin',\n",
       " 'Cowper',\n",
       " 'Crab',\n",
       " 'Crack',\n",
       " 'Crammer',\n",
       " 'Crappo',\n",
       " 'Crappoes',\n",
       " 'Crazed',\n",
       " 'Creagh',\n",
       " 'Created',\n",
       " 'Cretan',\n",
       " 'Crete',\n",
       " ...]"
      ]
     },
     "execution_count": 4,
     "metadata": {},
     "output_type": "execute_result"
    }
   ],
   "source": [
    "# get some example data from nltk\n",
    "# asterisk means 'everything'\n",
    "from nltk.book import *"
   ]
  },
  {
   "cell_type": "markdown",
   "metadata": {
    "slideshow": {
     "slide_type": "slide"
    }
   },
   "source": [
    "## Methods and functions\n",
    "\n",
    "<img src='res/methods_functions.jpg'>\n",
    "\n",
    "<i>Credits: Kerbal space program: Falcon 9 Space X</i>"
   ]
  },
  {
   "cell_type": "markdown",
   "metadata": {
    "slideshow": {
     "slide_type": "slide"
    }
   },
   "source": [
    "The syntax we'll use the most involves two types of commands: \"functions and methods\"; one that look like this ```len()``` and anothers that look like this ```.count()```\n",
    "\n",
    "Both need an object (text data in our case) to work on; for example, ```len(text1)``` or ```text1.count(\"Whale\")```."
   ]
  },
  {
   "cell_type": "markdown",
   "metadata": {
    "slideshow": {
     "slide_type": "slide"
    }
   },
   "source": [
    "## Quick start: Let computers do the reading and count\n",
    "\n"
   ]
  },
  {
   "cell_type": "markdown",
   "metadata": {
    "slideshow": {
     "slide_type": "slide"
    }
   },
   "source": [
    "```len(text1)``` gives the number of symbols or 'tokens' in your text. This is the total number of words and items of punctuation."
   ]
  },
  {
   "cell_type": "code",
   "execution_count": null,
   "metadata": {
    "slideshow": {
     "slide_type": "fragment"
    }
   },
   "outputs": [],
   "source": [
    "len(text1)"
   ]
  },
  {
   "cell_type": "markdown",
   "metadata": {
    "slideshow": {
     "slide_type": "slide"
    }
   },
   "source": [
    "```set(text2)``` gives you a list of all the tokens in the text, without the duplicates. Hence, ```len(set(text3))``` will give you the total number unique tokens. Remember this still includes punctuation. "
   ]
  },
  {
   "cell_type": "code",
   "execution_count": null,
   "metadata": {
    "slideshow": {
     "slide_type": "fragment"
    }
   },
   "outputs": [],
   "source": [
    "set(text1)"
   ]
  },
  {
   "cell_type": "markdown",
   "metadata": {
    "slideshow": {
     "slide_type": "slide"
    }
   },
   "source": [
    "```sorted(text4)``` places items in the list into alphabetical order, with punctuation symbols and capitalised words first."
   ]
  },
  {
   "cell_type": "code",
   "execution_count": null,
   "metadata": {
    "slideshow": {
     "slide_type": "fragment"
    }
   },
   "outputs": [],
   "source": [
    "sorted(set(text1))"
   ]
  },
  {
   "cell_type": "code",
   "execution_count": 8,
   "metadata": {
    "slideshow": {
     "slide_type": "slide"
    }
   },
   "outputs": [
    {
     "data": {
      "text/plain": [
       "16.050197203298673"
      ]
     },
     "execution_count": 8,
     "metadata": {},
     "output_type": "execute_result"
    }
   ],
   "source": [
    "# Lexical Richness of text3\n",
    "len(text3)/len(set(text3))"
   ]
  },
  {
   "cell_type": "markdown",
   "metadata": {
    "slideshow": {
     "slide_type": "slide"
    }
   },
   "source": [
    "We can use methods from the object **text** to count the words"
   ]
  },
  {
   "cell_type": "code",
   "execution_count": 10,
   "metadata": {
    "slideshow": {
     "slide_type": "fragment"
    }
   },
   "outputs": [
    {
     "data": {
      "text/plain": [
       "564"
      ]
     },
     "execution_count": 10,
     "metadata": {},
     "output_type": "execute_result"
    }
   ],
   "source": [
    "text1.count(\"my\")"
   ]
  },
  {
   "cell_type": "markdown",
   "metadata": {
    "slideshow": {
     "slide_type": "slide"
    }
   },
   "source": [
    "In general, NLTK is counting everything for us:\n",
    "see method ```.vocab()```\n"
   ]
  },
  {
   "cell_type": "code",
   "execution_count": 11,
   "metadata": {
    "slideshow": {
     "slide_type": "fragment"
    }
   },
   "outputs": [
    {
     "data": {
      "text/plain": [
       "FreqDist({'now': 79,\n",
       "          'im': 128,\n",
       "          'left': 17,\n",
       "          'with': 152,\n",
       "          'this': 86,\n",
       "          'gay': 30,\n",
       "          'name': 27,\n",
       "          ':P': 15,\n",
       "          'PART': 1016,\n",
       "          'hey': 264,\n",
       "          'everyone': 63,\n",
       "          'ah': 8,\n",
       "          'well': 81,\n",
       "          'NICK': 24,\n",
       "          ':': 96,\n",
       "          'U7': 119,\n",
       "          'is': 372,\n",
       "          'a': 568,\n",
       "          '.': 1268,\n",
       "          'ACTION': 346,\n",
       "          'gives': 6,\n",
       "          'U121': 36,\n",
       "          'golf': 2,\n",
       "          'clap': 3,\n",
       "          ':)': 101,\n",
       "          'JOIN': 1021,\n",
       "          'hi': 546,\n",
       "          'U59': 12,\n",
       "          '26': 10,\n",
       "          '/': 133,\n",
       "          'm': 81,\n",
       "          'ky': 2,\n",
       "          'women': 7,\n",
       "          'that': 274,\n",
       "          'are': 178,\n",
       "          'nice': 52,\n",
       "          'please': 21,\n",
       "          'pm': 108,\n",
       "          'me': 415,\n",
       "          'there': 120,\n",
       "          'ya': 100,\n",
       "          'go': 73,\n",
       "          'do': 168,\n",
       "          \"n't\": 141,\n",
       "          'fuck': 15,\n",
       "          'you': 635,\n",
       "          ':@': 1,\n",
       "          'whats': 41,\n",
       "          'up': 160,\n",
       "          'to': 658,\n",
       "          '?': 737,\n",
       "          'i': 648,\n",
       "          \"'ll\": 38,\n",
       "          'thunder': 1,\n",
       "          'your': 137,\n",
       "          'ass': 15,\n",
       "          'and': 335,\n",
       "          'dont': 75,\n",
       "          'even': 35,\n",
       "          'know': 103,\n",
       "          'what': 183,\n",
       "          'means': 5,\n",
       "          'sounds': 9,\n",
       "          'painful': 2,\n",
       "          'any': 123,\n",
       "          'ladis': 1,\n",
       "          'wanna': 107,\n",
       "          'chat': 142,\n",
       "          '29': 5,\n",
       "          'my': 242,\n",
       "          'cousin': 2,\n",
       "          'drew': 2,\n",
       "          'messed': 2,\n",
       "          'pic': 26,\n",
       "          'on': 186,\n",
       "          'cast': 2,\n",
       "          '24': 6,\n",
       "          'boo': 5,\n",
       "          'sexy': 23,\n",
       "          'lol': 704,\n",
       "          'U115': 36,\n",
       "          'he': 84,\n",
       "          'girl': 43,\n",
       "          'legs': 5,\n",
       "          'spread': 3,\n",
       "          'hope': 12,\n",
       "          'didnt': 28,\n",
       "          'draw': 1,\n",
       "          'penis': 1,\n",
       "          'ewwwww': 2,\n",
       "          '&': 15,\n",
       "          'head': 12,\n",
       "          'between': 4,\n",
       "          'her': 71,\n",
       "          'good': 130,\n",
       "          'r': 28,\n",
       "          'u': 200,\n",
       "          'serious': 5,\n",
       "          'I': 576,\n",
       "          'take': 37,\n",
       "          'one': 87,\n",
       "          ',': 596,\n",
       "          'have': 164,\n",
       "          'the': 646,\n",
       "          'docs': 1,\n",
       "          'tomorrow': 8,\n",
       "          'man': 33,\n",
       "          'am': 93,\n",
       "          'too': 125,\n",
       "          '..': 361,\n",
       "          'Connected': 1,\n",
       "          '...': 412,\n",
       "          'Slip': 1,\n",
       "          'away': 26,\n",
       "          'Fade': 1,\n",
       "          'Days': 2,\n",
       "          'Still': 1,\n",
       "          'feel': 19,\n",
       "          'Touching': 1,\n",
       "          'Changing': 1,\n",
       "          'Considerably': 1,\n",
       "          'killing': 6,\n",
       "          'heeeey': 1,\n",
       "          '!': 342,\n",
       "          'sharpie': 1,\n",
       "          \"'re\": 38,\n",
       "          'back': 78,\n",
       "          'U129': 6,\n",
       "          'yep': 22,\n",
       "          'Any': 4,\n",
       "          'ladies': 27,\n",
       "          'hurry': 1,\n",
       "          'not': 170,\n",
       "          'fast': 7,\n",
       "          'enough': 14,\n",
       "          'U116': 6,\n",
       "          'bowl': 1,\n",
       "          'got': 68,\n",
       "          'blunt': 1,\n",
       "          'an': 58,\n",
       "          'bong': 1,\n",
       "          '......': 33,\n",
       "          'glad': 4,\n",
       "          'it': 332,\n",
       "          'worked': 4,\n",
       "          'out': 107,\n",
       "          'chair': 2,\n",
       "          'hard': 10,\n",
       "          'Anyone': 10,\n",
       "          'from': 92,\n",
       "          'Tennessee': 1,\n",
       "          'in': 357,\n",
       "          'here': 181,\n",
       "          'as': 59,\n",
       "          'U68': 18,\n",
       "          'yet': 12,\n",
       "          'missing': 6,\n",
       "          'B': 2,\n",
       "          'complain': 2,\n",
       "          'about': 70,\n",
       "          'things': 10,\n",
       "          'being': 12,\n",
       "          'very': 19,\n",
       "          'often': 2,\n",
       "          'ok': 96,\n",
       "          'yes': 69,\n",
       "          'U30': 81,\n",
       "          'fire': 5,\n",
       "          'Nashville': 1,\n",
       "          '\"': 87,\n",
       "          'itch': 3,\n",
       "          'yo': 11,\n",
       "          'U133': 4,\n",
       "          'or': 88,\n",
       "          'ogan': 1,\n",
       "          'male': 12,\n",
       "          'show': 10,\n",
       "          'will': 40,\n",
       "          'let': 17,\n",
       "          \"'s\": 195,\n",
       "          'talk': 56,\n",
       "          'haha': 44,\n",
       "          'brb': 33,\n",
       "          'opps': 2,\n",
       "          'sho': 3,\n",
       "          '*': 52,\n",
       "          'keeps': 3,\n",
       "          's': 31,\n",
       "          'place': 13,\n",
       "          'warm': 5,\n",
       "          'guys': 58,\n",
       "          'cams': 1,\n",
       "          'play': 25,\n",
       "          'sits': 15,\n",
       "          'lap': 2,\n",
       "          'guyz': 3,\n",
       "          'female': 17,\n",
       "          'U126': 4,\n",
       "          'wonna': 1,\n",
       "          'f': 38,\n",
       "          'nc': 3,\n",
       "          'single': 17,\n",
       "          'mom': 5,\n",
       "          'where': 63,\n",
       "          'did': 92,\n",
       "          'gooo': 1,\n",
       "          'sure': 26,\n",
       "          'but': 90,\n",
       "          'e-bay': 1,\n",
       "          'like': 156,\n",
       "          'wrong': 13,\n",
       "          'room': 98,\n",
       "          'yeee': 1,\n",
       "          'haw': 1,\n",
       "          'considering': 1,\n",
       "          'changing': 2,\n",
       "          'nickname': 2,\n",
       "          'ihavehotnips': 1,\n",
       "          'want': 71,\n",
       "          'hot': 37,\n",
       "          'pics': 9,\n",
       "          'of': 202,\n",
       "          'can': 105,\n",
       "          'look': 26,\n",
       "          'mirror': 1,\n",
       "          'U64': 9,\n",
       "          'wb': 91,\n",
       "          'U139': 8,\n",
       "          'should': 29,\n",
       "          'U44': 28,\n",
       "          'dad': 5,\n",
       "          'ty': 69,\n",
       "          'Hi': 104,\n",
       "          'U138': 2,\n",
       "          'HAHAHA': 2,\n",
       "          'yw': 16,\n",
       "          'make': 44,\n",
       "          \"'\": 25,\n",
       "          'iamahotnip': 1,\n",
       "          'alright': 4,\n",
       "          'fucking': 2,\n",
       "          'thought': 24,\n",
       "          'its': 66,\n",
       "          'so': 139,\n",
       "          'late': 5,\n",
       "          'lmao': 107,\n",
       "          'ahah': 1,\n",
       "          'iamahotniplickme': 1,\n",
       "          'ny': 8,\n",
       "          'would': 53,\n",
       "          '@': 75,\n",
       "          '. . .': 3,\n",
       "          'appearently': 1,\n",
       "          'she': 47,\n",
       "          'does': 35,\n",
       "          'cya': 5,\n",
       "          'later': 19,\n",
       "          'white': 9,\n",
       "          'ca': 24,\n",
       "          'sleep': 12,\n",
       "          'huh': 19,\n",
       "          'bye': 44,\n",
       "          'U20': 46,\n",
       "          'buy': 9,\n",
       "          'yeah': 75,\n",
       "          'U136': 3,\n",
       "          'get': 102,\n",
       "          'hell': 29,\n",
       "          'outta': 12,\n",
       "          'freaking': 5,\n",
       "          'PM': 41,\n",
       "          'box': 4,\n",
       "          'Im': 19,\n",
       "          'fiance': 8,\n",
       "          '!!!!!!!!!!!!!!!!': 3,\n",
       "          'answers': 2,\n",
       "          'for': 188,\n",
       "          'U101': 10,\n",
       "          ';)': 29,\n",
       "          'when': 48,\n",
       "          'U83': 8,\n",
       "          'iamahotnipwithpics': 1,\n",
       "          'plan': 2,\n",
       "          'wedding': 1,\n",
       "          'first': 22,\n",
       "          'warning': 1,\n",
       "          '!!!!!': 13,\n",
       "          'uh': 8,\n",
       "          'A': 12,\n",
       "          'gold': 3,\n",
       "          'jeep': 1,\n",
       "          'charm': 1,\n",
       "          'necklace': 1,\n",
       "          'ring': 3,\n",
       "          'U6': 43,\n",
       "          'isnt': 3,\n",
       "          'falling': 1,\n",
       "          'again': 23,\n",
       "          'no': 155,\n",
       "          '!!!!!!!': 3,\n",
       "          'right': 54,\n",
       "          'already': 16,\n",
       "          'yayayayayyy': 1,\n",
       "          '!!': 41,\n",
       "          'OOooOO': 1,\n",
       "          'how': 128,\n",
       "          'doin': 11,\n",
       "          'lmaoo': 4,\n",
       "          'iamahotnipwithhotnippics': 1,\n",
       "          'many': 23,\n",
       "          'kts': 1,\n",
       "          'females': 11,\n",
       "          'off': 47,\n",
       "          'really': 41,\n",
       "          'Just': 2,\n",
       "          'fine': 16,\n",
       "          'thanks': 50,\n",
       "          'freakishly': 1,\n",
       "          'dr': 3,\n",
       "          'seuss': 1,\n",
       "          'wow': 24,\n",
       "          'twice': 3,\n",
       "          \"'m\": 133,\n",
       "          'impressed': 3,\n",
       "          'hiya': 78,\n",
       "          '!!!': 51,\n",
       "          'omg': 29,\n",
       "          'Finger': 1,\n",
       "          'Deep': 1,\n",
       "          'within': 1,\n",
       "          'borderline': 1,\n",
       "          'Show': 1,\n",
       "          'love': 60,\n",
       "          'we': 63,\n",
       "          'belong': 2,\n",
       "          'together': 8,\n",
       "          'Relax': 1,\n",
       "          'Turn': 1,\n",
       "          'around': 24,\n",
       "          'And': 17,\n",
       "          'Hand': 1,\n",
       "          'just': 125,\n",
       "          'laughed': 1,\n",
       "          'hang': 5,\n",
       "          'finger': 1,\n",
       "          'yay': 6,\n",
       "          'such': 9,\n",
       "          'DIRTY': 1,\n",
       "          'word': 8,\n",
       "          'oh': 79,\n",
       "          '14': 6,\n",
       "          'k': 10,\n",
       "          'U141': 3,\n",
       "          'Box': 1,\n",
       "          'hear': 21,\n",
       "          '!!!!': 18,\n",
       "          'geeshhh': 1,\n",
       "          'hes': 4,\n",
       "          'deaf': 2,\n",
       "          'ppl': 21,\n",
       "          'hug': 19,\n",
       "          'watches': 25,\n",
       "          \"stuffin'\": 3,\n",
       "          '....': 170,\n",
       "          'forward': 2,\n",
       "          'pervs': 3,\n",
       "          'hugs': 18,\n",
       "          'girls': 48,\n",
       "          'behave': 2,\n",
       "          'baby': 26,\n",
       "          'boy': 13,\n",
       "          'gottsa': 1,\n",
       "          'Only': 3,\n",
       "          'dirty': 4,\n",
       "          'minded': 1,\n",
       "          'ima': 6,\n",
       "          '??': 48,\n",
       "          'aww': 11,\n",
       "          'fun': 16,\n",
       "          'forwads': 2,\n",
       "          'wrote': 3,\n",
       "          'wanted': 9,\n",
       "          'read': 14,\n",
       "          'theres': 3,\n",
       "          'nobody': 8,\n",
       "          'misbeahve': 1,\n",
       "          'happy': 9,\n",
       "          '22': 7,\n",
       "          'wa': 1,\n",
       "          'him': 41,\n",
       "          'forwards': 1,\n",
       "          'ALL': 3,\n",
       "          'PErvs': 1,\n",
       "          'redirect': 1,\n",
       "          'VBox': 1,\n",
       "          'all': 165,\n",
       "          'who': 99,\n",
       "          'hate': 23,\n",
       "          'devotion': 1,\n",
       "          'christianity': 1,\n",
       "          'questioned': 1,\n",
       "          'honey': 11,\n",
       "          'Depends': 1,\n",
       "          '31': 3,\n",
       "          'CA': 2,\n",
       "          'having': 11,\n",
       "          'babies': 2,\n",
       "          'laughs': 2,\n",
       "          'his': 38,\n",
       "          'handle': 5,\n",
       "          'On': 3,\n",
       "          'kinda': 8,\n",
       "          'lookin': 4,\n",
       "          'U92': 14,\n",
       "          'little': 9,\n",
       "          'jerks': 2,\n",
       "          'jerkettes': 2,\n",
       "          'jesus': 8,\n",
       "          'more': 34,\n",
       "          'than': 12,\n",
       "          'ANYONE': 2,\n",
       "          'ELSE': 1,\n",
       "          'lolololll': 1,\n",
       "          'serg': 1,\n",
       "          'beeehave': 1,\n",
       "          'loves': 7,\n",
       "          'ME': 8,\n",
       "          'most': 6,\n",
       "          'myself': 10,\n",
       "          'CO': 2,\n",
       "          'if': 98,\n",
       "          'didnts': 1,\n",
       "          'say': 34,\n",
       "          'anithing': 1,\n",
       "          'see': 75,\n",
       "          'eyes': 15,\n",
       "          '=': 13,\n",
       "          'Jerketts': 1,\n",
       "          'wtf': 7,\n",
       "          'yah': 5,\n",
       "          'jerk': 4,\n",
       "          'kids': 11,\n",
       "          'awwwwww': 2,\n",
       "          'type': 9,\n",
       "          'much': 40,\n",
       "          'shut': 14,\n",
       "          'massage': 3,\n",
       "          'daughters': 2,\n",
       "          'ur': 21,\n",
       "          'annoying': 5,\n",
       "          'Now': 9,\n",
       "          'Playing': 1,\n",
       "          '-': 93,\n",
       "          'Cradle': 1,\n",
       "          'Filth': 1,\n",
       "          'Gothic': 1,\n",
       "          'Romance': 1,\n",
       "          '(': 48,\n",
       "          'Red': 1,\n",
       "          'Roses': 2,\n",
       "          'For': 1,\n",
       "          'The': 13,\n",
       "          'Devil': 1,\n",
       "          'Whore': 1,\n",
       "          ')': 52,\n",
       "          ':(': 9,\n",
       "          'gettign': 1,\n",
       "          'cooler': 2,\n",
       "          'by': 25,\n",
       "          'minute': 6,\n",
       "          \"'d\": 24,\n",
       "          'miss': 5,\n",
       "          'noo': 1,\n",
       "          'work': 38,\n",
       "          'why': 59,\n",
       "          'heyy': 8,\n",
       "          'U148': 3,\n",
       "          'boys': 5,\n",
       "          'naughtier': 1,\n",
       "          'Hmm': 2,\n",
       "          'Guess': 1,\n",
       "          'ugly': 4,\n",
       "          'had': 50,\n",
       "          'daughter': 4,\n",
       "          'regret': 1,\n",
       "          'bein': 1,\n",
       "          'What': 18,\n",
       "          'aw': 5,\n",
       "          'whys': 1,\n",
       "          'deep': 2,\n",
       "          'inside': 5,\n",
       "          'wants': 21,\n",
       "          'hates': 2,\n",
       "          'ahahah': 1,\n",
       "          'id': 4,\n",
       "          'put': 18,\n",
       "          'caution': 1,\n",
       "          'tape': 1,\n",
       "          'Your': 3,\n",
       "          'phone': 20,\n",
       "          'sexs': 1,\n",
       "          'best': 9,\n",
       "          '--------->': 1,\n",
       "          '27': 13,\n",
       "          'M': 5,\n",
       "          'UK': 1,\n",
       "          'profile': 9,\n",
       "          'Lmfao': 3,\n",
       "          'phil': 2,\n",
       "          'said': 23,\n",
       "          'wouldnt': 5,\n",
       "          'date': 4,\n",
       "          'Is': 7,\n",
       "          '=-\\\\': 1,\n",
       "          'bad': 26,\n",
       "          'try': 16,\n",
       "          'arrange': 1,\n",
       "          'words': 6,\n",
       "          'they': 77,\n",
       "          'form': 1,\n",
       "          'coherent': 1,\n",
       "          'thoughts': 1,\n",
       "          'corner': 12,\n",
       "          'hello': 71,\n",
       "          'U84': 3,\n",
       "          'hmph': 2,\n",
       "          'mean': 19,\n",
       "          'has': 42,\n",
       "          'been': 57,\n",
       "          'grammar': 1,\n",
       "          'lesson': 1,\n",
       "          'day': 33,\n",
       "          'courtesy': 1,\n",
       "          'pokes': 5,\n",
       "          'still': 33,\n",
       "          'could': 20,\n",
       "          'counter': 1,\n",
       "          'wait': 14,\n",
       "          'sheesh': 3,\n",
       "          'perv': 11,\n",
       "          'guy': 23,\n",
       "          'lets': 15,\n",
       "          'course': 8,\n",
       "          'woohoo': 4,\n",
       "          'think': 54,\n",
       "          'exception': 2,\n",
       "          'rule': 7,\n",
       "          'land': 5,\n",
       "          'though': 14,\n",
       "          'wont': 11,\n",
       "          'bug': 2,\n",
       "          'em': 14,\n",
       "          'then': 40,\n",
       "          'someone': 28,\n",
       "          'find': 18,\n",
       "          'cheap': 4,\n",
       "          'flight': 2,\n",
       "          'spain': 1,\n",
       "          'need': 43,\n",
       "          'summer': 7,\n",
       "          'HUGE': 1,\n",
       "          'seriously': 13,\n",
       "          'was': 142,\n",
       "          'dumbass': 2,\n",
       "          'signed': 1,\n",
       "          'kev': 1,\n",
       "          'fetterline': 1,\n",
       "          'rap': 1,\n",
       "          'deal': 3,\n",
       "          '????': 17,\n",
       "          'emergency': 1,\n",
       "          'Ug': 1,\n",
       "          'shit': 17,\n",
       "          'il': 7,\n",
       "          'bbl': 6,\n",
       "          'maybe': 20,\n",
       "          'LOL': 87,\n",
       "          'hahah': 10,\n",
       "          '8082653953': 1,\n",
       "          'K-Fed': 1,\n",
       "          'kicked': 8,\n",
       "          'Lol': 10,\n",
       "          'class': 3,\n",
       "          'ticket': 1,\n",
       "          'texas': 6,\n",
       "          'anyone': 50,\n",
       "          'be': 107,\n",
       "          'bought': 1,\n",
       "          'enuff': 2,\n",
       "          'money': 2,\n",
       "          'webcams': 1,\n",
       "          're-thinks': 1,\n",
       "          'liking': 1,\n",
       "          'rethinks': 1,\n",
       "          '???': 24,\n",
       "          'lmaoooo': 1,\n",
       "          'Aw': 1,\n",
       "          'U155': 2,\n",
       "          'only': 33,\n",
       "          'kidding': 12,\n",
       "          'douchebag': 1,\n",
       "          'Poor': 2,\n",
       "          'bored': 20,\n",
       "          'pick': 13,\n",
       "          'choose': 2,\n",
       "          're-thinking': 1,\n",
       "          're-think': 1,\n",
       "          'nothing': 18,\n",
       "          'meredith': 1,\n",
       "          'impression': 1,\n",
       "          'Cum': 1,\n",
       "          'shower': 6,\n",
       "          'U1370': 2,\n",
       "          'nads': 1,\n",
       "          'asl': 9,\n",
       "          'lot': 7,\n",
       "          'funny': 9,\n",
       "          'You': 42,\n",
       "          'friends': 5,\n",
       "          'nose': 5,\n",
       "          'But': 5,\n",
       "          'friend': 8,\n",
       "          'sticks': 1,\n",
       "          'fingers': 10,\n",
       "          'face': 11,\n",
       "          'lmaooo': 4,\n",
       "          '!!!!!!': 6,\n",
       "          'nad': 1,\n",
       "          'stick': 8,\n",
       "          'U23': 35,\n",
       "          'ewwww': 2,\n",
       "          '*sniffs*': 1,\n",
       "          'ewwwwww': 1,\n",
       "          'owww': 1,\n",
       "          'splinter': 1,\n",
       "          'licks': 3,\n",
       "          'ear': 3,\n",
       "          'ughhh': 1,\n",
       "          'charge': 4,\n",
       "          'IL': 1,\n",
       "          'gagas': 1,\n",
       "          'hangs': 1,\n",
       "          'number': 6,\n",
       "          'gags': 1,\n",
       "          'neck': 9,\n",
       "          'bites': 2,\n",
       "          'lip': 2,\n",
       "          'Meep': 1,\n",
       "          'resisting': 1,\n",
       "          'beeeeehave': 1,\n",
       "          'Remember': 1,\n",
       "          'LAst': 1,\n",
       "          'time': 50,\n",
       "          'smirks': 1,\n",
       "          'innocently': 1,\n",
       "          'wash': 3,\n",
       "          'hands': 14,\n",
       "          'dude': 7,\n",
       "          'gets': 12,\n",
       "          'jk': 7,\n",
       "          '1-900-anal-sex': 1,\n",
       "          'dang': 9,\n",
       "          'predicted': 1,\n",
       "          \"pm's\": 1,\n",
       "          '1.99': 1,\n",
       "          'min': 5,\n",
       "          'innocent': 9,\n",
       "          'LOLOLOLLL': 1,\n",
       "          'U12': 30,\n",
       "          'thats': 45,\n",
       "          'asshole': 2,\n",
       "          'mouth': 4,\n",
       "          'erm': 1,\n",
       "          'free': 13,\n",
       "          'goes': 14,\n",
       "          ':-o': 11,\n",
       "          'Lies': 2,\n",
       "          'Check': 1,\n",
       "          'record': 1,\n",
       "          'lick': 5,\n",
       "          'old': 21,\n",
       "          'Way': 2,\n",
       "          'lie': 4,\n",
       "          'mmhmm': 1,\n",
       "          'polite': 1,\n",
       "          'calls': 2,\n",
       "          'may': 14,\n",
       "          'om': 2,\n",
       "          'y': 5,\n",
       "          'lix': 2,\n",
       "          'ummm': 4,\n",
       "          'U109': 3,\n",
       "          'cyber': 6,\n",
       "          'darlin': 4,\n",
       "          'youre': 3,\n",
       "          'dead': 9,\n",
       "          'Death': 2,\n",
       "          'Row': 1,\n",
       "          'call': 26,\n",
       "          'case': 8,\n",
       "          'hahaha': 14,\n",
       "          'catch': 1,\n",
       "          'covers': 2,\n",
       "          'mexican': 2,\n",
       "          'searching': 1,\n",
       "          'else': 13,\n",
       "          'darling': 3,\n",
       "          'bite': 2,\n",
       "          'ooo': 2,\n",
       "          'going': 27,\n",
       "          'bed': 8,\n",
       "          'dreams': 3,\n",
       "          'wishes': 3,\n",
       "          'cause': 13,\n",
       "          'incoming': 1,\n",
       "          'mins': 2,\n",
       "          'ditto': 2,\n",
       "          'nite': 17,\n",
       "          'lool': 1,\n",
       "          'kina': 1,\n",
       "          'give': 19,\n",
       "          'oo': 1,\n",
       "          'ooooook': 1,\n",
       "          'idiots': 4,\n",
       "          'ahead': 1,\n",
       "          'were': 38,\n",
       "          'early20s': 1,\n",
       "          'tears': 1,\n",
       "          'partial': 1,\n",
       "          '#': 2,\n",
       "          '30': 8,\n",
       "          'sext': 1,\n",
       "          'urself': 2,\n",
       "          'piff': 3,\n",
       "          'shows': 1,\n",
       "          'sexist': 1,\n",
       "          'student': 2,\n",
       "          'lazy': 1,\n",
       "          'profiles': 5,\n",
       "          'conceited': 1,\n",
       "          'busy': 17,\n",
       "          'peolpe': 1,\n",
       "          'either': 9,\n",
       "          'construction': 3,\n",
       "          'okay': 7,\n",
       "          'bit': 12,\n",
       "          'calm': 1,\n",
       "          'down': 24,\n",
       "          'crosses': 2,\n",
       "          'arms': 1,\n",
       "          'geeshh': 2,\n",
       "          'two': 10,\n",
       "          'fighting': 3,\n",
       "          'major': 1,\n",
       "          'probably': 4,\n",
       "          'sucks': 18,\n",
       "          'saw': 10,\n",
       "          'gonna': 37,\n",
       "          'dream': 3,\n",
       "          'eats': 2,\n",
       "          'chococake': 2,\n",
       "          'yum': 3,\n",
       "          'child': 1,\n",
       "          'development': 1,\n",
       "          'cho-co-la-te': 1,\n",
       "          'near': 13,\n",
       "          'kc': 1,\n",
       "          'cheaking': 1,\n",
       "          'taken': 3,\n",
       "          'CHOCO': 2,\n",
       "          'night': 41,\n",
       "          'smax': 1,\n",
       "          'It': 21,\n",
       "          'three': 4,\n",
       "          'syllables': 1,\n",
       "          '>:->': 2,\n",
       "          'cho-co-late': 1,\n",
       "          'hehehe': 7,\n",
       "          'sowwy': 5,\n",
       "          'VVil': 1,\n",
       "          'U36': 27,\n",
       "          'kisses': 9,\n",
       "          'Mmm': 1,\n",
       "          'PayPal': 1,\n",
       "          'credit': 2,\n",
       "          'alert': 1,\n",
       "          'hep': 1,\n",
       "          'against': 5,\n",
       "          'identity': 1,\n",
       "          'theft': 1,\n",
       "          'cold': 12,\n",
       "          'winter': 3,\n",
       "          'new': 20,\n",
       "          'cell': 2,\n",
       "          'chocolate': 2,\n",
       "          'smooch': 5,\n",
       "          'walks': 7,\n",
       "          'runs': 9,\n",
       "          'their': 19,\n",
       "          'thru': 6,\n",
       "          'hair': 17,\n",
       "          'closes': 6,\n",
       "          'gently': 5,\n",
       "          'Compliments': 6,\n",
       "          '!.': 17,\n",
       "          'wat': 2,\n",
       "          'paypal': 1,\n",
       "          'typed': 1,\n",
       "          'choco': 1,\n",
       "          'caps': 5,\n",
       "          'umm': 4,\n",
       "          'pounce': 2,\n",
       "          'U165': 6,\n",
       "          'jump': 3,\n",
       "          'mmm': 4,\n",
       "          'missed': 11,\n",
       "          '*spank*': 1,\n",
       "          'supposed': 5,\n",
       "          'over': 39,\n",
       "          '20s': 1,\n",
       "          'pay': 5,\n",
       "          'makes': 13,\n",
       "          'better': 23,\n",
       "          'red': 15,\n",
       "          'color': 6,\n",
       "          'eye': 3,\n",
       "          'video': 7,\n",
       "          'tapes': 1,\n",
       "          'blind': 3,\n",
       "          'este': 1,\n",
       "          'spank': 1,\n",
       "          'dat': 5,\n",
       "          'chase': 2,\n",
       "          'people': 41,\n",
       "          'watch': 12,\n",
       "          'wana': 8,\n",
       "          'chik': 1,\n",
       "          'aussie': 1,\n",
       "          'supervisor': 1,\n",
       "          'Hello': 18,\n",
       "          'ignoring': 1,\n",
       "          'list': 6,\n",
       "          'wish': 5,\n",
       "          'cmon': 2,\n",
       "          'U128': 5,\n",
       "          'special': 4,\n",
       "          'cuz': 6,\n",
       "          'ignored': 2,\n",
       "          'untouchable': 1,\n",
       "          'hehe': 12,\n",
       "          'hows': 8,\n",
       "          'bout': 12,\n",
       "          'knows': 7,\n",
       "          '2': 31,\n",
       "          'lists': 3,\n",
       "          '--------------------': 1,\n",
       "          'London': 1,\n",
       "          'enjoys': 1,\n",
       "          'roleplay': 1,\n",
       "          'whisper': 8,\n",
       "          'wats': 2,\n",
       "          'great': 20,\n",
       "          'aint': 9,\n",
       "          'tellin': 1,\n",
       "          'illin': 1,\n",
       "          'U11': 58,\n",
       "          'U9': 49,\n",
       "          'thank': 14,\n",
       "          'vm': 1,\n",
       "          'tv': 8,\n",
       "          'noise': 4,\n",
       "          'stupid': 3,\n",
       "          'political': 1,\n",
       "          'ads': 2,\n",
       "          'grief': 1,\n",
       "          'U15': 33,\n",
       "          'lost': 17,\n",
       "          'connection': 2,\n",
       "          'youer': 1,\n",
       "          'election': 2,\n",
       "          'season': 1,\n",
       "          'scorpion': 1,\n",
       "          'always': 25,\n",
       "          'yours': 4,\n",
       "          'same': 19,\n",
       "          'today': 29,\n",
       "          'Uhh': 1,\n",
       "          'Ahh': 2,\n",
       "          '..............................': 1,\n",
       "          'Boyz': 1,\n",
       "          'II': 1,\n",
       "          'Men': 1,\n",
       "          'scorpions': 1,\n",
       "          'rock': 9,\n",
       "          'job': 5,\n",
       "          'went': 8,\n",
       "          'manhattan': 1,\n",
       "          'boght': 1,\n",
       "          'some': 58,\n",
       "          'stuff': 11,\n",
       "          'came': 5,\n",
       "          'home': 11,\n",
       "          'vindictive': 1,\n",
       "          'earrings': 1,\n",
       "          'coat': 1,\n",
       "          'U2': 16,\n",
       "          'horror': 1,\n",
       "          'scopes': 1,\n",
       "          'horrified': 1,\n",
       "          'byb': 1,\n",
       "          'Hey': 25,\n",
       "          'welcome': 35,\n",
       "          'U17': 40,\n",
       "          'flavour': 2,\n",
       "          'intersting': 1,\n",
       "          'blueberry': 1,\n",
       "          'martini': 1,\n",
       "          'liked': 6,\n",
       "          'laterssss': 1,\n",
       "          'kind': 2,\n",
       "          'consultant': 2,\n",
       "          'financial': 1,\n",
       "          'byeeee': 1,\n",
       "          'eat': 15,\n",
       "          'dinner': 5,\n",
       "          'biz': 2,\n",
       "          'Looking': 1,\n",
       "          'Through': 1,\n",
       "          'Patient': 1,\n",
       "          'Eyes': 1,\n",
       "          '.....': 73,\n",
       "          'Dawn': 1,\n",
       "          'last': 22,\n",
       "          'song': 36,\n",
       "          'evening': 13,\n",
       "          'LIVE': 1,\n",
       "          'cool': 24,\n",
       "          'mauh': 1,\n",
       "          'mike': 2,\n",
       "          'keep': 14,\n",
       "          \"makin'\": 1,\n",
       "          '$$': 1,\n",
       "          'others': 10,\n",
       "          'must': 19,\n",
       "          'sup': 9,\n",
       "          'seem': 6,\n",
       "          'stocks': 1,\n",
       "          'U4': 7,\n",
       "          'own': 17,\n",
       "          'advice': 2,\n",
       "          'client': 1,\n",
       "          'suffer': 1,\n",
       "          'days': 9,\n",
       "          'after': 8,\n",
       "          'finish': 3,\n",
       "          'meeting': 1,\n",
       "          'clients': 1,\n",
       "          'U18': 92,\n",
       "          'mango': 2,\n",
       "          'fav': 1,\n",
       "          'shaken': 1,\n",
       "          'stirred': 1,\n",
       "          'U19': 79,\n",
       "          'ques': 1,\n",
       "          \"shakin'\": 1,\n",
       "          'strong': 3,\n",
       "          'strait': 1,\n",
       "          'shakin': 1,\n",
       "          'way': 20,\n",
       "          '<': 19,\n",
       "          'sorry': 28,\n",
       "          'drink': 7,\n",
       "          'smoker': 1,\n",
       "          'trying': 4,\n",
       "          'quit': 4,\n",
       "          'preference': 1,\n",
       "          '4.20': 1,\n",
       "          'at': 98,\n",
       "          'house': 5,\n",
       "          'mine': 9,\n",
       "          'shook': 1,\n",
       "          'ice': 6,\n",
       "          'mad': 4,\n",
       "          'cali': 5,\n",
       "          'farmer': 1,\n",
       "          'hmmmmmmm': 2,\n",
       "          '\\\\': 5,\n",
       "          'harvest': 1,\n",
       "          'year': 11,\n",
       "          'U10': 8,\n",
       "          'whoa': 2,\n",
       "          'hb': 9,\n",
       "          'teenagers': 2,\n",
       "          'finally': 3,\n",
       "          'ha': 14,\n",
       "          '18': 38,\n",
       "          '16': 6,\n",
       "          'latest': 1,\n",
       "          'gosh': 1,\n",
       "          '8': 4,\n",
       "          ...})"
      ]
     },
     "execution_count": 11,
     "metadata": {},
     "output_type": "execute_result"
    }
   ],
   "source": [
    "text5.vocab()"
   ]
  },
  {
   "cell_type": "markdown",
   "metadata": {
    "slideshow": {
     "slide_type": "slide"
    }
   },
   "source": [
    "#### Challenge: Percentaje taken by a word in text\n",
    "Store in a variable the amount of times the word \"sea\" is in the text3. Then calculate the percentaje taken up by this word in the whole text"
   ]
  },
  {
   "cell_type": "code",
   "execution_count": 12,
   "metadata": {
    "slideshow": {
     "slide_type": "slide"
    }
   },
   "outputs": [
    {
     "data": {
      "text/plain": [
       "0.0021624191489116973"
      ]
     },
     "execution_count": 12,
     "metadata": {},
     "output_type": "execute_result"
    }
   ],
   "source": [
    "text1.count('my') / len(text1)"
   ]
  },
  {
   "cell_type": "markdown",
   "metadata": {
    "slideshow": {
     "slide_type": "slide"
    }
   },
   "source": [
    "### Exploring text - useful methods to search inside text\n",
    "NLTK has useful methods that helps us to search in the text\n"
   ]
  },
  {
   "cell_type": "markdown",
   "metadata": {
    "slideshow": {
     "slide_type": "slide"
    }
   },
   "source": [
    "**Concordance** shows you a word in context and is useful if you want to be able to discuss the ways in which a word is used in a text. "
   ]
  },
  {
   "cell_type": "code",
   "execution_count": 18,
   "metadata": {
    "slideshow": {
     "slide_type": "fragment"
    }
   },
   "outputs": [
    {
     "name": "stdout",
     "output_type": "stream",
     "text": [
      "Displaying 7 of 589 matches:\n",
      "ANN ' S CONVERSATIONS WITH GOETHE . \" My God ! Mr . Chace , what is the matter\n",
      "N THE WHALE KILLER . \" So be cheery , my lads , let your hearts never fail , W\n",
      "isely -- having little or no money in my purse , and nothing particular to int\n",
      "er it is a damp , drizzly November in my soul ; whenever I find myself involun\n",
      "eral I meet ; and especially whenever my hypos get such an upper hand of me , \n",
      "get to sea as soon as I can . This is my substitute for pistol and ball . With\n",
      "s , and begin to be over conscious of my lungs , I do not mean to have it infe\n"
     ]
    }
   ],
   "source": [
    "text1.concordance('my', lines=7)"
   ]
  },
  {
   "cell_type": "markdown",
   "metadata": {
    "slideshow": {
     "slide_type": "slide"
    }
   },
   "source": [
    "**Similar** will find words used in similar contexts; it is not looking for synonyms, although the results may include synonyms"
   ]
  },
  {
   "cell_type": "code",
   "execution_count": 21,
   "metadata": {
    "slideshow": {
     "slide_type": "fragment"
    }
   },
   "outputs": [
    {
     "name": "stdout",
     "output_type": "stream",
     "text": [
      "make government be people you powers principles prosperity secure\n",
      "support peace spirit increase me duties administration duty influence\n",
      "place them\n"
     ]
    }
   ],
   "source": [
    "text4.similar('use')"
   ]
  },
  {
   "cell_type": "markdown",
   "metadata": {
    "slideshow": {
     "slide_type": "slide"
    }
   },
   "source": [
    "**Common contexts** allows us to examine just the contexts that are shared by two or more words, such as monstrous and very. We have to enclose these words by square brackets as well as parentheses, and separate them with a comma:"
   ]
  },
  {
   "cell_type": "code",
   "execution_count": 26,
   "metadata": {
    "slideshow": {
     "slide_type": "fragment"
    }
   },
   "outputs": [
    {
     "name": "stdout",
     "output_type": "stream",
     "text": [
      "a_pretty am_glad a_lucky is_pretty be_glad\n"
     ]
    }
   ],
   "source": [
    "text2.common_contexts(['monstrous', 'very'])"
   ]
  },
  {
   "cell_type": "markdown",
   "metadata": {
    "slideshow": {
     "slide_type": "slide"
    }
   },
   "source": [
    "We can also find words that typically occur together, which tend to be very specific to a text or genre of texts. A **collocation** is a sequence of words that occur together unusually often"
   ]
  },
  {
   "cell_type": "code",
   "execution_count": 27,
   "metadata": {
    "slideshow": {
     "slide_type": "fragment"
    }
   },
   "outputs": [
    {
     "name": "stdout",
     "output_type": "stream",
     "text": [
      "Colonel Brandon; Sir John; Lady Middleton; Miss Dashwood; every thing;\n",
      "thousand pounds; dare say; Miss Steeles; said Elinor; Miss Steele;\n",
      "every body; John Dashwood; great deal; Harley Street; Berkeley Street;\n",
      "Miss Dashwoods; young man; Combe Magna; every day; next morning\n"
     ]
    }
   ],
   "source": [
    "text2.collocations()"
   ]
  },
  {
   "cell_type": "markdown",
   "metadata": {
    "slideshow": {
     "slide_type": "slide"
    }
   },
   "source": [
    "#### Challenge: Text exploration\n",
    "\n",
    "1. Find the collocations in the Inaugural Address text. \n",
    "\n",
    "2. Chose one of the words to concordance. \n",
    "\n",
    "3. Investigate how the word is used. What words are used similarly? \n",
    "\n",
    "4. And what are the common contexts of these words? \n",
    "\n",
    "5. Report your findings to the person next to you. \n",
    "\n",
    "6. Do the same with the chat forum."
   ]
  },
  {
   "cell_type": "code",
   "execution_count": 35,
   "metadata": {
    "slideshow": {
     "slide_type": "slide"
    }
   },
   "outputs": [
    {
     "name": "stdout",
     "output_type": "stream",
     "text": [
      "Displaying 6 of 6 matches:\n",
      "ormation , or in a disposition to communicate it . The manner in which Miss Ste\n",
      "o tell ; you , because you do not communicate , and I , because I conceal nothi\n",
      "ally ill - disposed to receive or communicate pleasure . After they had been as\n",
      "ware of the pain she was going to communicate , and perceiving , by Marianne ' \n",
      " foregoing distress , ventured to communicate her hopes . Mrs . Jennings , thou\n",
      "lled , and feared she had that to communicate which might again unsettle the mi\n"
     ]
    }
   ],
   "source": [
    "text2.concordance('communicate')"
   ]
  },
  {
   "cell_type": "code",
   "execution_count": 36,
   "metadata": {
    "slideshow": {
     "slide_type": "slide"
    }
   },
   "outputs": [
    {
     "data": {
      "text/plain": [
       "6"
      ]
     },
     "execution_count": 36,
     "metadata": {},
     "output_type": "execute_result"
    }
   ],
   "source": [
    "text2.count('communicate')"
   ]
  },
  {
   "cell_type": "code",
   "execution_count": 37,
   "metadata": {
    "slideshow": {
     "slide_type": "slide"
    }
   },
   "outputs": [
    {
     "name": "stdout",
     "output_type": "stream",
     "text": [
      "give hear her do make feel take think see find speak bestow which it\n",
      "him be read have spare avoid\n"
     ]
    }
   ],
   "source": [
    "text2.similar('communicate')"
   ]
  },
  {
   "cell_type": "code",
   "execution_count": 39,
   "metadata": {
    "slideshow": {
     "slide_type": "slide"
    }
   },
   "outputs": [
    {
     "name": "stdout",
     "output_type": "stream",
     "text": [
      "to_it to_, to_her\n"
     ]
    }
   ],
   "source": [
    "text2.common_contexts(['communicate', 'think'])"
   ]
  },
  {
   "cell_type": "markdown",
   "metadata": {
    "slideshow": {
     "slide_type": "slide"
    }
   },
   "source": [
    "### Exploring text: Plotting dispersion of words\n",
    "If we can find words in a text, we can also take note of their position within the text, Python lets you create graphs to analize textual data.\n",
    "We can then generate a **dispersion plot** that shows where given words occur in a text."
   ]
  },
  {
   "cell_type": "code",
   "execution_count": 44,
   "metadata": {
    "slideshow": {
     "slide_type": "slide"
    }
   },
   "outputs": [
    {
     "data": {
      "image/png": "[encoded data removed]",
      "text/plain": [
       "<matplotlib.figure.Figure at 0x1a2f97c9e8>"
      ]
     },
     "metadata": {},
     "output_type": "display_data"
    }
   ],
   "source": [
    "# different roles played by the male and female protagonists in Sense and Sensibility\n",
    "#['Elinor', 'Marianne', 'Edward', 'Willoughby']\n",
    "text2.dispersion_plot(['Elinor', 'Marianne', 'Edward', 'Willoughby'])"
   ]
  },
  {
   "cell_type": "code",
   "execution_count": 46,
   "metadata": {
    "slideshow": {
     "slide_type": "slide"
    }
   },
   "outputs": [
    {
     "data": {
      "image/png": "[encoded data removed]",
      "text/plain": [
       "<matplotlib.figure.Figure at 0x1a33173b38>"
      ]
     },
     "metadata": {},
     "output_type": "display_data"
    }
   ],
   "source": [
    "# happy faces and sad faces in chat text\n",
    "text5.dispersion_plot([':)', ':('])"
   ]
  },
  {
   "cell_type": "markdown",
   "metadata": {
    "slideshow": {
     "slide_type": "slide"
    }
   },
   "source": [
    "#### Challenge: Dispersion of words in a text\n",
    "\n",
    "Create a dispersion plot for the terms \"democracy\", \"freedom\", \"America\",\"Government\",\"peace\",\"war\",\"happiness\" and \"fear\" in the innaugural address corpus.\n",
    "What do you think it tells you? "
   ]
  },
  {
   "cell_type": "code",
   "execution_count": 49,
   "metadata": {
    "slideshow": {
     "slide_type": "slide"
    }
   },
   "outputs": [
    {
     "data": {
      "image/png": "[encoded data removed]",
      "text/plain": [
       "<matplotlib.figure.Figure at 0x1a332e85f8>"
      ]
     },
     "metadata": {},
     "output_type": "display_data"
    }
   ],
   "source": [
    "text4.dispersion_plot([\"democracy\", \"freedom\", \"America\",\"Government\",\"peace\",\"war\",\"happiness\", \"fear\"])"
   ]
  },
  {
   "cell_type": "markdown",
   "metadata": {
    "slideshow": {
     "slide_type": "slide"
    }
   },
   "source": [
    "## Data structures: Texts as Lists of Words\n",
    "Python treats a text as a long list of words. First, we'll make some lists of our own, to give you an idea of how a list behaves.\n"
   ]
  },
  {
   "cell_type": "code",
   "execution_count": 64,
   "metadata": {
    "slideshow": {
     "slide_type": "fragment"
    }
   },
   "outputs": [],
   "source": [
    "sent1 = ['Call', 'me', 'Ishmael', '.']\n",
    "# Note we use Square brackets here to define our list"
   ]
  },
  {
   "cell_type": "code",
   "execution_count": 63,
   "metadata": {
    "slideshow": {
     "slide_type": "fragment"
    }
   },
   "outputs": [],
   "source": [
    "sent1"
   ]
  },
  {
   "cell_type": "markdown",
   "metadata": {
    "slideshow": {
     "slide_type": "slide"
    }
   },
   "source": [
    "A few things to consider...\n",
    "<br>\n",
    "<img src='res/lists.jpg'>\n",
    "*Credit: Head First Python by Paul Barry*"
   ]
  },
  {
   "cell_type": "markdown",
   "metadata": {
    "slideshow": {
     "slide_type": "slide"
    }
   },
   "source": [
    "You can add lists together, creating a new list containing all the items from both lists. You can do this by typing out the two lists or you can add two or more pre-defined lists. This is called concatenation."
   ]
  },
  {
   "cell_type": "code",
   "execution_count": 66,
   "metadata": {
    "slideshow": {
     "slide_type": "fragment"
    }
   },
   "outputs": [],
   "source": [
    "sent3 = sent1 + sent2"
   ]
  },
  {
   "cell_type": "code",
   "execution_count": 65,
   "metadata": {
    "slideshow": {
     "slide_type": "fragment"
    }
   },
   "outputs": [
    {
     "name": "stdout",
     "output_type": "stream",
     "text": [
      "['Call', 'me', 'Ishmael', '.', 'Now']\n"
     ]
    }
   ],
   "source": [
    "sent1.append('Now')\n",
    "print(sent1)"
   ]
  },
  {
   "cell_type": "markdown",
   "metadata": {
    "slideshow": {
     "slide_type": "slide"
    }
   },
   "source": [
    "You can think of text as a concatenation of sentences, and sentences as a concatenation of words"
   ]
  },
  {
   "cell_type": "markdown",
   "metadata": {
    "slideshow": {
     "slide_type": "fragment"
    }
   },
   "source": [
    "What if we want to add a single item to a list? This is known as appending. When we append() to a list, the list itself is updated as a result of the operation."
   ]
  },
  {
   "cell_type": "markdown",
   "metadata": {
    "slideshow": {
     "slide_type": "slide"
    }
   },
   "source": [
    "#### Indexing Lists\n",
    "We can navigate this list with the help of indexes. Just as we can find out the number of times a word occurs in a text, we can also find where a word first occurs. We can navigate to different points in a text without restriction, so long as we can describe where we want to be."
   ]
  },
  {
   "cell_type": "code",
   "execution_count": 67,
   "metadata": {
    "slideshow": {
     "slide_type": "fragment"
    }
   },
   "outputs": [
    {
     "name": "stdout",
     "output_type": "stream",
     "text": [
      "173\n"
     ]
    }
   ],
   "source": [
    "print(text4.index('awaken')) # print is a python function we can use to show the result of an text operation"
   ]
  },
  {
   "cell_type": "markdown",
   "metadata": {
    "slideshow": {
     "slide_type": "slide"
    }
   },
   "source": [
    "This works in reverse as well. We can ask Python to locate the 158th item in our list (note that we use square brackets here, not parentheses)"
   ]
  },
  {
   "cell_type": "code",
   "execution_count": 69,
   "metadata": {
    "slideshow": {
     "slide_type": "fragment"
    }
   },
   "outputs": [
    {
     "data": {
      "text/plain": [
       "'awaken'"
      ]
     },
     "execution_count": 69,
     "metadata": {},
     "output_type": "execute_result"
    }
   ],
   "source": [
    "text4[173]"
   ]
  },
  {
   "cell_type": "markdown",
   "metadata": {
    "slideshow": {
     "slide_type": "slide"
    }
   },
   "source": [
    "As well as pulling out individual items from a list, indexes can be used to pull out selections of text from a large corpus to inspect. We call this **slicing**."
   ]
  },
  {
   "cell_type": "markdown",
   "metadata": {
    "slideshow": {
     "slide_type": "slide"
    }
   },
   "source": [
    "If we're asking for the beginning or end of a text, we can leave out the first or second number. For instance, [:5] will give us the first five items in a list while [8:] will give us all the elements from the eighth to the end."
   ]
  },
  {
   "cell_type": "markdown",
   "metadata": {
    "slideshow": {
     "slide_type": "slide"
    }
   },
   "source": [
    "## Strings: A useful object to store texts\n",
    "\n",
    "A string is a sequence of characters, you can think of it as a list. For example, we can assign a string to a variable, index a string, and slice a string"
   ]
  },
  {
   "cell_type": "code",
   "execution_count": 71,
   "metadata": {
    "slideshow": {
     "slide_type": "fragment"
    }
   },
   "outputs": [
    {
     "name": "stdout",
     "output_type": "stream",
     "text": [
      "Julia!!\n"
     ]
    }
   ],
   "source": [
    "name = 'Julia'\n",
    "name2 = name + '!!'\n",
    "print(name2)"
   ]
  },
  {
   "cell_type": "markdown",
   "metadata": {
    "slideshow": {
     "slide_type": "slide"
    }
   },
   "source": [
    "We can also make some mathematical operations, like \n",
    "```+``` and ```*```:"
   ]
  },
  {
   "cell_type": "code",
   "execution_count": 72,
   "metadata": {
    "slideshow": {
     "slide_type": "fragment"
    }
   },
   "outputs": [
    {
     "data": {
      "text/plain": [
       "'JuliaJuliaJuliaJuliaJulia'"
      ]
     },
     "execution_count": 72,
     "metadata": {},
     "output_type": "execute_result"
    }
   ],
   "source": [
    "name*5"
   ]
  },
  {
   "cell_type": "markdown",
   "metadata": {
    "slideshow": {
     "slide_type": "slide"
    }
   },
   "source": [
    "We can ```join```\n",
    " the words of a list to make a single string, or ```split```\n",
    " a string into a list, as follows:"
   ]
  },
  {
   "cell_type": "code",
   "execution_count": 73,
   "metadata": {
    "slideshow": {
     "slide_type": "fragment"
    }
   },
   "outputs": [
    {
     "data": {
      "text/plain": [
       "'hello world'"
      ]
     },
     "execution_count": 73,
     "metadata": {},
     "output_type": "execute_result"
    }
   ],
   "source": [
    "blank = ' '\n",
    "blank.join(['hello', 'world'])"
   ]
  },
  {
   "cell_type": "code",
   "execution_count": 74,
   "metadata": {
    "slideshow": {
     "slide_type": "fragment"
    }
   },
   "outputs": [
    {
     "data": {
      "text/plain": [
       "['hello', 'world']"
      ]
     },
     "execution_count": 74,
     "metadata": {},
     "output_type": "execute_result"
    }
   ],
   "source": [
    "'hello world'.split()"
   ]
  },
  {
   "cell_type": "markdown",
   "metadata": {
    "slideshow": {
     "slide_type": "slide"
    }
   },
   "source": [
    "And it will be helpful to normalize your text. E.g. lowercase, uppercase"
   ]
  },
  {
   "cell_type": "code",
   "execution_count": null,
   "metadata": {
    "slideshow": {
     "slide_type": "fragment"
    }
   },
   "outputs": [],
   "source": [
    "'Hello World'.lower"
   ]
  },
  {
   "cell_type": "markdown",
   "metadata": {
    "slideshow": {
     "slide_type": "slide"
    }
   },
   "source": [
    "## Let computers do the repetitive work: Python Loops\n",
    "\n",
    "We can use Python to automate tasks, such as performing a function on all items in a list. For instance, we could ask it to tell us the size of all the files in a directory. To do that, we'll have to teach the computer how to repeat things. We do this by creating something called a *loop*."
   ]
  },
  {
   "cell_type": "markdown",
   "metadata": {
    "slideshow": {
     "slide_type": "slide"
    }
   },
   "source": [
    "An example task that we might want to repeat is printing each character in a word on a line of its own. One way to do this would be to use a series of print statements:"
   ]
  },
  {
   "cell_type": "code",
   "execution_count": null,
   "metadata": {
    "slideshow": {
     "slide_type": "fragment"
    }
   },
   "outputs": [],
   "source": []
  },
  {
   "cell_type": "markdown",
   "metadata": {
    "slideshow": {
     "slide_type": "slide"
    }
   },
   "source": [
    "What are the cons of doing this do you think?"
   ]
  },
  {
   "cell_type": "code",
   "execution_count": null,
   "metadata": {
    "slideshow": {
     "slide_type": "fragment"
    }
   },
   "outputs": [],
   "source": []
  },
  {
   "cell_type": "code",
   "execution_count": null,
   "metadata": {
    "slideshow": {
     "slide_type": "slide"
    }
   },
   "outputs": [],
   "source": []
  },
  {
   "cell_type": "markdown",
   "metadata": {
    "slideshow": {
     "slide_type": "slide"
    }
   },
   "source": [
    "<img src='res/loop.jpg'>\n",
    "<br>\n",
    "<i>Credit: Head First Python by Paul Barry</i>"
   ]
  },
  {
   "cell_type": "markdown",
   "metadata": {
    "slideshow": {
     "slide_type": "fragment"
    }
   },
   "source": [
    "This is call a 'for loop'. Try it with other words."
   ]
  },
  {
   "cell_type": "markdown",
   "metadata": {
    "slideshow": {
     "slide_type": "slide"
    }
   },
   "source": [
    "The general form of a loop is:\n",
    "```python\n",
    "for variable in collection:\n",
    "    # do this\n",
    "    # do that\n",
    "    ```\n",
    "We can call the loop variable whatever we want, but there must be a colon at the end of the line starting the loop, and we must indent anything we want to run inside the loop. This is used to signify when the loop ends, instead of using a symbol to end the loop."
   ]
  },
  {
   "cell_type": "markdown",
   "metadata": {
    "slideshow": {
     "slide_type": "slide"
    }
   },
   "source": [
    "This is a loop that repeatedly updates a variable:"
   ]
  },
  {
   "cell_type": "code",
   "execution_count": null,
   "metadata": {
    "slideshow": {
     "slide_type": "fragment"
    }
   },
   "outputs": [],
   "source": [
    "length = 0\n",
    "for char in 'Python':\n",
    "    length = length + 1\n",
    "print('There are', length, 'letters in this word')"
   ]
  },
  {
   "cell_type": "markdown",
   "metadata": {
    "slideshow": {
     "slide_type": "notes"
    }
   },
   "source": [
    "Let's go through this line by line.\n",
    "The variable is set to 0, so that python starts counting from 0.\n",
    "The second line opens a for loop that loops over the characters in Python.\n",
    "Now, the third line tells python to count by one, pretty obvious to us humans... Since there are six characters in 'Python', the statement on line 3 will be executed five times.\n",
    "The first time around, length is zero (the value assigned to it on line 1). The statement adds 1 to the old value of length, producing 1, and updates length to refer to that new value. The next time around, char is 'y' and length is 1, so length is updated to be 2. After four more updates, length is 6.\n",
    "Since there is nothing left in 'Python', the loop finishes and the print statement on line 4 tells us our final answer inbetween two strings."
   ]
  },
  {
   "cell_type": "markdown",
   "metadata": {
    "slideshow": {
     "slide_type": "slide"
    }
   },
   "source": [
    "Of course, we already know that we could use ```len()``` to find the length of a string, but it's just an example... Let's compare results:"
   ]
  },
  {
   "cell_type": "code",
   "execution_count": null,
   "metadata": {
    "slideshow": {
     "slide_type": "fragment"
    }
   },
   "outputs": [],
   "source": []
  },
  {
   "cell_type": "markdown",
   "metadata": {
    "slideshow": {
     "slide_type": "slide"
    }
   },
   "source": [
    "Now for another example using a list! Fruit salad, yummy, yummy."
   ]
  },
  {
   "cell_type": "code",
   "execution_count": null,
   "metadata": {
    "slideshow": {
     "slide_type": "fragment"
    }
   },
   "outputs": [],
   "source": [
    "fruits = ['banana', 'apple', 'mango']\n",
    "for fruit in fruits:        \n",
    "    print('Current fruit :', fruit)\n",
    "    print('Done!')"
   ]
  },
  {
   "cell_type": "markdown",
   "metadata": {
    "slideshow": {
     "slide_type": "slide"
    }
   },
   "source": [
    "#### Challenge: Loops\n",
    "Define a list called Library with the 9 NLTK books in it. Write a for loop that will  print the lexical diversity over each book and tell you its score."
   ]
  },
  {
   "cell_type": "code",
   "execution_count": null,
   "metadata": {
    "slideshow": {
     "slide_type": "subslide"
    }
   },
   "outputs": [],
   "source": []
  },
  {
   "cell_type": "markdown",
   "metadata": {
    "slideshow": {
     "slide_type": "slide"
    }
   },
   "source": [
    "## Frecuency Distributions: Counting for analysis\n",
    "We can use Python's ability to perform statistical analysis of data to do further exploration of vocabulary. For instance, we might want to be able to find the most common or least common words in a text. We'll start by looking at frequency distribution."
   ]
  },
  {
   "cell_type": "code",
   "execution_count": null,
   "metadata": {
    "slideshow": {
     "slide_type": "slide"
    }
   },
   "outputs": [],
   "source": [
    "# import FreqDist from the nltk.probability module\n"
   ]
  },
  {
   "cell_type": "code",
   "execution_count": null,
   "metadata": {
    "slideshow": {
     "slide_type": "fragment"
    }
   },
   "outputs": [],
   "source": []
  },
  {
   "cell_type": "code",
   "execution_count": null,
   "metadata": {
    "slideshow": {
     "slide_type": "fragment"
    }
   },
   "outputs": [],
   "source": []
  },
  {
   "cell_type": "code",
   "execution_count": null,
   "metadata": {
    "slideshow": {
     "slide_type": "fragment"
    }
   },
   "outputs": [],
   "source": []
  },
  {
   "cell_type": "code",
   "execution_count": null,
   "metadata": {
    "slideshow": {
     "slide_type": "fragment"
    }
   },
   "outputs": [],
   "source": []
  },
  {
   "cell_type": "markdown",
   "metadata": {
    "slideshow": {
     "slide_type": "slide"
    }
   },
   "source": [
    "#### Challenge: Frequency distributions\n",
    "Use a loop to compare the 10 most common words of the texts in the NLTK book."
   ]
  },
  {
   "cell_type": "code",
   "execution_count": null,
   "metadata": {
    "slideshow": {
     "slide_type": "subslide"
    }
   },
   "outputs": [],
   "source": []
  },
  {
   "cell_type": "markdown",
   "metadata": {
    "slideshow": {
     "slide_type": "slide"
    }
   },
   "source": [
    "## Exploring vocabulary (cont.)\n",
    "As well as counting individual words, we can count other features of vocabulary, such as how often words of different lengths occur. We do this by putting together a number of the commands we've already learned.\n",
    "\n",
    "We could start like this: \n",
    "\n",
    "```[len(word) for word in text1]```\n",
    "\n",
    "... but this would print the length of every word in the whole book, so let's skip that bit!"
   ]
  },
  {
   "cell_type": "code",
   "execution_count": null,
   "metadata": {
    "slideshow": {
     "slide_type": "slide"
    }
   },
   "outputs": [],
   "source": [
    "# try get the frequency distribution for the lenght of words in text1\n"
   ]
  },
  {
   "cell_type": "code",
   "execution_count": null,
   "metadata": {
    "slideshow": {
     "slide_type": "fragment"
    }
   },
   "outputs": [],
   "source": [
    "# what is the most common word lenght?\n"
   ]
  },
  {
   "cell_type": "code",
   "execution_count": null,
   "metadata": {
    "slideshow": {
     "slide_type": "fragment"
    }
   },
   "outputs": [],
   "source": [
    "# how frequent is that length in the overall text?\n"
   ]
  },
  {
   "cell_type": "markdown",
   "metadata": {
    "slideshow": {
     "slide_type": "slide"
    }
   },
   "source": [
    "These last two commands tell us that the most common word length, and that these account for about 20% of the book. We can see this just by visually inspecting the list produced by ```fdist2.most_common()```\n",
    ", but if this list were too long to inspect readily, or we didn't want to print it, there are other ways to explore it."
   ]
  },
  {
   "cell_type": "markdown",
   "metadata": {
    "slideshow": {
     "slide_type": "slide"
    }
   },
   "source": [
    "There are a number of functions defined for NLTK's frequency distributions:\n",
    "\n",
    " | Function | Purpose  |\n",
    " |--------------|------------|\n",
    " | fdist = FreqDist(samples) | create a frequency distribution containing the given samples |\n",
    " | fdist[sample] += 1 | increment the count for this sample |\n",
    " | fdist['monstrous']  | count of the number of times a given sample occurred |\n",
    " | fdist.freq('monstrous') | frequency of a given sample |\n",
    " | fdist.N()  |  total number of samples |\n",
    " | fdist.most_common(n)   |  the n most common samples and their frequencies |\n",
    " | for sample in fdist:   |  iterate over the items in fdist, when in the loop, we refer to each item as sample |\n",
    " | fdist.max() | sample with the greatest count |\n",
    " | fdist.tabulate()   |  tabulate the frequency distribution |\n",
    " | fdist.plot()  |   graphical plot of the frequency distribution |\n",
    " | fdist.plot(cumulative=True) | cumulative plot of the frequency distribution |\n",
    " | fdist1 < fdist2 | test if samples in fdist1 occur less frequently than in fdist2 |"
   ]
  },
  {
   "cell_type": "markdown",
   "metadata": {
    "slideshow": {
     "slide_type": "slide"
    }
   },
   "source": [
    "It is possible to select the longest words in a text, which may tell you something about its vocabulary and style"
   ]
  },
  {
   "cell_type": "code",
   "execution_count": null,
   "metadata": {},
   "outputs": [],
   "source": [
    "vocab = set(text4)\n",
    "long_words=[]\n",
    "for word in ...:\n",
    "    if len(word)>15:\n",
    "        long_words....(word)\n",
    "        \n",
    "sorted(long_words)"
   ]
  },
  {
   "cell_type": "markdown",
   "metadata": {},
   "source": [
    "We can use this other template to do exactly the same thing, in just one line. We are not going to go deep in this but if you are interested it's called **List comprehension**"
   ]
  },
  {
   "cell_type": "code",
   "execution_count": null,
   "metadata": {
    "slideshow": {
     "slide_type": "fragment"
    }
   },
   "outputs": [],
   "source": [
    "vocab = set(text4)\n",
    "long_words = [word for word in vocab if len(...) > 15]\n",
    "sorted(long_words)"
   ]
  },
  {
   "cell_type": "markdown",
   "metadata": {
    "slideshow": {
     "slide_type": "slide"
    }
   },
   "source": [
    "We can also use numerical operators to refine the types of searches we ask Python to run. We can use the following relational operators:\n",
    "\n",
    "\n",
    "### Common relationals\n",
    " |  Relational | Meaning |\n",
    " |--------------:|:------------|\n",
    " | <    |  less than |\n",
    " | <=   |   less than or equal to |\n",
    " | ==  |    equal to (note this is two \"=\" signs, not one) |\n",
    " | !=   |   not equal to |\n",
    " | \\>   |   greater than |\n",
    " | \\>= |   greater than or equal to |"
   ]
  },
  {
   "cell_type": "markdown",
   "metadata": {
    "slideshow": {
     "slide_type": "slide"
    }
   },
   "source": [
    "#### Challenge: Use operator to explore text\n",
    "\n",
    "Using one of the pre-defined sentences in the NLTK corpus, use the relational operators above to find:\n",
    "- Words longer than four characters\n",
    "- Words of four or more characters\n",
    "- Words of exactly four characters"
   ]
  },
  {
   "cell_type": "code",
   "execution_count": null,
   "metadata": {
    "slideshow": {
     "slide_type": "slide"
    }
   },
   "outputs": [],
   "source": []
  },
  {
   "cell_type": "code",
   "execution_count": null,
   "metadata": {
    "slideshow": {
     "slide_type": "fragment"
    }
   },
   "outputs": [],
   "source": []
  },
  {
   "cell_type": "markdown",
   "metadata": {
    "slideshow": {
     "slide_type": "fragment"
    }
   },
   "source": [
    "We can fine-tune our selection even further by adding other conditions. For instance, we might want to find long words that occur frequently (or rarely).  "
   ]
  },
  {
   "cell_type": "markdown",
   "metadata": {
    "slideshow": {
     "slide_type": "slide"
    }
   },
   "source": [
    "#### Challenge: Search with conditions\n",
    "\n",
    "Can you find all the words in a text that are more than seven letters long and occur more than seven times?"
   ]
  },
  {
   "cell_type": "code",
   "execution_count": null,
   "metadata": {
    "slideshow": {
     "slide_type": "slide"
    }
   },
   "outputs": [],
   "source": []
  },
  {
   "cell_type": "markdown",
   "metadata": {
    "slideshow": {
     "slide_type": "slide"
    }
   },
   "source": [
    "### Common methods for strings\n",
    "\n",
    " | Operator  | Purpose  |\n",
    " |--------------|------------|\n",
    " | s.startswith(t) | test if s starts with t |\n",
    " | s.endswith(t)  |  test if s ends with t | \n",
    " | t in s         |  test if t is a substring of s | \n",
    " | s.islower()    |  test if s contains cased characters and all are lowercase | \n",
    " | s.isupper()    |  test if s contains cased characters and all are uppercase | \n",
    " | s.isalpha()    |  test if s is non-empty and all characters in s are alphabetic | \n",
    " | s.isalnum()    |  test if s is non-empty and all characters in s are alphanumeric | \n",
    " | s.isdigit()    |  test if s is non-empty and all characters in s are digits | \n",
    " | s.istitle()    |  test if s contains cased characters and is titlecased (i.e. all words in s have initial capitals) | "
   ]
  },
  {
   "cell_type": "code",
   "execution_count": null,
   "metadata": {
    "slideshow": {
     "slide_type": "slide"
    }
   },
   "outputs": [],
   "source": [
    "# get all the words from text 1 that ends with 'ableness'"
   ]
  },
  {
   "cell_type": "code",
   "execution_count": null,
   "metadata": {
    "slideshow": {
     "slide_type": "fragment"
    }
   },
   "outputs": [],
   "source": [
    "# get all the words from sent7 which are digits\n"
   ]
  },
  {
   "cell_type": "markdown",
   "metadata": {
    "slideshow": {
     "slide_type": "slide"
    }
   },
   "source": [
    "#### Challenge\n",
    "\n",
    "You'll remember right at the beginning we started looking at the size of the vocabulary of a text, but there were two problems with the results we got from using:\n",
    "\n",
    "```len(set(text1))```\n",
    "\n",
    "This count includes items of punctuation and treats capitalised and non-capitalised words as different things (*This* vs *this*). We can now fix these problems. We start by getting rid of capitalised words, then we get rid of the punctuation and numbers."
   ]
  },
  {
   "cell_type": "code",
   "execution_count": null,
   "metadata": {
    "slideshow": {
     "slide_type": "slide"
    }
   },
   "outputs": [],
   "source": [
    "len(set(text1))"
   ]
  },
  {
   "cell_type": "code",
   "execution_count": null,
   "metadata": {
    "slideshow": {
     "slide_type": "slide"
    }
   },
   "outputs": [],
   "source": [
    "## Normalize by lower case"
   ]
  },
  {
   "cell_type": "code",
   "execution_count": null,
   "metadata": {},
   "outputs": [],
   "source": [
    "## Get rid of numbers and punctuation"
   ]
  },
  {
   "cell_type": "markdown",
   "metadata": {
    "slideshow": {
     "slide_type": "slide"
    }
   },
   "source": [
    "## Explore your own text: Accessing a corpus   \n",
    "\n",
    "**Corpus** - Structured set of texts. \n",
    "*Corpora* is the plural of this. Example: A collection of medical journals."
   ]
  },
  {
   "cell_type": "markdown",
   "metadata": {
    "slideshow": {
     "slide_type": "slide"
    }
   },
   "source": [
    "Now, let's load in our text.\n",
    "\n",
    "Google the [Gutenberg Project](https://www.gutenberg.org) and download a book as a plain text file. \n",
    "\n",
    "I chose [A Modest Proposal](https://www.gutenberg.org/ebooks/1080)\n",
    "\n",
    "We can also look at file contents within the IPython Notebook itself:"
   ]
  },
  {
   "cell_type": "code",
   "execution_count": null,
   "metadata": {
    "scrolled": true,
    "slideshow": {
     "slide_type": "slide"
    }
   },
   "outputs": [],
   "source": [
    "import os\n",
    "\n",
    "text_path = 'books/pg1080.txt'\n",
    "path=os.path.join(text_path)\n",
    "print(path)\n",
    "file = open(os.path.join(text_path), \"r\", encoding='UTF-8')\n",
    "text = file.read()\n",
    "print(text)"
   ]
  },
  {
   "cell_type": "markdown",
   "metadata": {
    "slideshow": {
     "slide_type": "slide"
    }
   },
   "source": [
    "Or we can get it from the web directly to our jupyter notebook:"
   ]
  },
  {
   "cell_type": "code",
   "execution_count": null,
   "metadata": {
    "slideshow": {
     "slide_type": "slide"
    }
   },
   "outputs": [],
   "source": [
    "from urllib import request\n",
    "url = \"http://www.gutenberg.org/cache/epub/1080/pg1080.txt\"\n",
    "response = request.urlopen(url)\n",
    "raw = response.read().decode('utf-8-sig')\n",
    "print(raw)"
   ]
  },
  {
   "cell_type": "markdown",
   "metadata": {
    "slideshow": {
     "slide_type": "slide"
    }
   },
   "source": [
    "we can inspect the type of object we just got in python:"
   ]
  },
  {
   "cell_type": "code",
   "execution_count": null,
   "metadata": {
    "slideshow": {
     "slide_type": "fragment"
    }
   },
   "outputs": [],
   "source": [
    "type(raw)"
   ]
  },
  {
   "cell_type": "markdown",
   "metadata": {
    "slideshow": {
     "slide_type": "fragment"
    }
   },
   "source": [
    "We have a big string, that means, a sequence of characters. We already know how to work on this. For example, can we know the size of this string?"
   ]
  },
  {
   "cell_type": "code",
   "execution_count": null,
   "metadata": {
    "slideshow": {
     "slide_type": "fragment"
    }
   },
   "outputs": [],
   "source": [
    "len(raw)"
   ]
  },
  {
   "cell_type": "code",
   "execution_count": null,
   "metadata": {
    "slideshow": {
     "slide_type": "fragment"
    }
   },
   "outputs": [],
   "source": [
    "raw[:5]"
   ]
  },
  {
   "cell_type": "markdown",
   "metadata": {
    "slideshow": {
     "slide_type": "slide"
    }
   },
   "source": [
    "We are interested in words and sentences. In our first lessons, we analyzed texts already presented as words and sentences, we can do this with an operation called \"tokenization\"\n",
    "\n",
    "**Tokenization = cut the text into pieces like sentences or words**\n",
    "<img src=\"res/token.jpg\"/>"
   ]
  },
  {
   "cell_type": "code",
   "execution_count": null,
   "metadata": {
    "slideshow": {
     "slide_type": "slide"
    }
   },
   "outputs": [],
   "source": [
    "from nltk import word_tokenize,sent_tokenize,wordpunct_tokenize"
   ]
  },
  {
   "cell_type": "code",
   "execution_count": null,
   "metadata": {
    "slideshow": {
     "slide_type": "fragment"
    }
   },
   "outputs": [],
   "source": [
    "## get the tokens"
   ]
  },
  {
   "cell_type": "code",
   "execution_count": null,
   "metadata": {
    "slideshow": {
     "slide_type": "fragment"
    }
   },
   "outputs": [],
   "source": [
    "# create a text object out of the tokens"
   ]
  },
  {
   "cell_type": "code",
   "execution_count": null,
   "metadata": {
    "slideshow": {
     "slide_type": "fragment"
    }
   },
   "outputs": [],
   "source": [
    "# explore your text"
   ]
  },
  {
   "cell_type": "markdown",
   "metadata": {
    "slideshow": {
     "slide_type": "slide"
    }
   },
   "source": [
    "#### Challenge: Explore your vocabulary with your text\n",
    "\n",
    "Get a text from the Gutenberg Project\n",
    "\n",
    "1. Explore the lexical richness\n",
    "2. Calculate the percentage taken by a word\n",
    "3. Find the collocations\n",
    "4. Chose one of the words to concordance. \n",
    "5. Investigate how the word is used\n",
    "6. Create a dispersion plot\n",
    "7. Create a frequency distribution\n",
    "8. Get the top 50 words\n"
   ]
  },
  {
   "cell_type": "code",
   "execution_count": null,
   "metadata": {},
   "outputs": [],
   "source": []
  },
  {
   "cell_type": "code",
   "execution_count": null,
   "metadata": {},
   "outputs": [],
   "source": []
  },
  {
   "cell_type": "code",
   "execution_count": null,
   "metadata": {},
   "outputs": [],
   "source": []
  },
  {
   "cell_type": "code",
   "execution_count": null,
   "metadata": {},
   "outputs": [],
   "source": []
  },
  {
   "cell_type": "markdown",
   "metadata": {
    "slideshow": {
     "slide_type": "slide"
    }
   },
   "source": [
    "## Structuring the code: Writing our own functions (yay!)\n",
    "One thing that makes Python unique is that whitespace at the start of the line (use four spaces for consistency!) is meaningful. In many other languages, whitespace at the start of lines is simply a readability convention."
   ]
  },
  {
   "cell_type": "code",
   "execution_count": null,
   "metadata": {
    "slideshow": {
     "slide_type": "slide"
    }
   },
   "outputs": [],
   "source": [
    "# Fix this whitespace problem!\n",
    "\n",
    "string = 'user'\n",
    "if string == 'user':\n",
    "print('Phew, fixed.')"
   ]
  },
  {
   "cell_type": "markdown",
   "metadata": {
    "slideshow": {
     "slide_type": "fragment"
    }
   },
   "source": [
    "So, whitespace tells both Python and human readers where things start and stop."
   ]
  },
  {
   "cell_type": "markdown",
   "metadata": {
    "slideshow": {
     "slide_type": "slide"
    }
   },
   "source": [
    "### Defining a function\n",
    "\n",
    "<img src='res/function.jpg'>\n",
    "\n",
    "*Credit: Head First Python by Paul Barry*"
   ]
  },
  {
   "cell_type": "code",
   "execution_count": null,
   "metadata": {
    "slideshow": {
     "slide_type": "fragment"
    }
   },
   "outputs": [],
   "source": [
    "def welcomer(name):\n",
    "    print('Welcome, %s!' % name)# here '%s' tells Python to expect a string and how many strings to expect.  "
   ]
  },
  {
   "cell_type": "markdown",
   "metadata": {
    "slideshow": {
     "slide_type": "slide"
    }
   },
   "source": [
    "Here, the word 'name' is a placeholder. It stands in for any argument we might care to place in the brackets. The placeholder could be anything. It could be n or fsdlkfjs; it will still work. What matters for the program is that you use the same one consistently. On the other hand, what matters for us is that you use descriptive names so you remember what the code does!\n",
    "Notice that it doesn't do anything by itself. It needs to actually be called, and given some data:"
   ]
  },
  {
   "cell_type": "markdown",
   "metadata": {
    "slideshow": {
     "slide_type": "subslide"
    }
   },
   "source": [
    "Notice that it doesn't do anything by itself. It needs to actually be called, and given some data:"
   ]
  },
  {
   "cell_type": "code",
   "execution_count": null,
   "metadata": {
    "slideshow": {
     "slide_type": "slide"
    }
   },
   "outputs": [],
   "source": [
    "welcomer('jack')"
   ]
  },
  {
   "cell_type": "markdown",
   "metadata": {
    "slideshow": {
     "slide_type": "slide"
    }
   },
   "source": [
    "#### Challenge: Functions\n",
    "Previously, we calculated the lexical diversity of a text. In NLTK, we can create a function called lexical diversity that runs a single line of code. We can then call this function to quickly determine the lexical density of a corpus or subcorpus. Challenge!\n",
    "Write a function to calculate the lexical diversity of a text; test it out on the books in the NLTK corpus"
   ]
  },
  {
   "cell_type": "code",
   "execution_count": null,
   "metadata": {
    "slideshow": {
     "slide_type": "fragment"
    }
   },
   "outputs": [],
   "source": [
    "def lexical_diversity(text):\n",
    "    return len(text)/len(set(text))"
   ]
  },
  {
   "cell_type": "code",
   "execution_count": null,
   "metadata": {
    "slideshow": {
     "slide_type": "fragment"
    }
   },
   "outputs": [],
   "source": [
    "#After the function has been defined, we can run it:\n",
    "lexical_diversity(text2)"
   ]
  },
  {
   "cell_type": "markdown",
   "metadata": {
    "slideshow": {
     "slide_type": "slide"
    }
   },
   "source": [
    "Other functions that we've used already include ```len()``` and ```sorted()``` - these were predefined. ```lexical_diversity()```\n",
    " is one we set up ourselves; note that it's conventional to put a set of parentheses after a function, to make it clear what we're talking about."
   ]
  },
  {
   "cell_type": "markdown",
   "metadata": {
    "slideshow": {
     "slide_type": "slide"
    }
   },
   "source": [
    "**--bonus--**\n",
    "#### Challenge: Functions to set up our text from the web \n",
    "Write a function that receives a URL (internet address where the text is) and return an object ```Text```\n",
    " that you can use to explore."
   ]
  },
  {
   "cell_type": "code",
   "execution_count": null,
   "metadata": {
    "slideshow": {
     "slide_type": "slide"
    }
   },
   "outputs": [],
   "source": []
  }
 ],
 "metadata": {
  "celltoolbar": "Slideshow",
  "kernelspec": {
   "display_name": "Python [conda env:anaconda3]",
   "language": "python",
   "name": "conda-env-anaconda3-py"
  },
  "language_info": {
   "codemirror_mode": {
    "name": "ipython",
    "version": 3
   },
   "file_extension": ".py",
   "mimetype": "text/x-python",
   "name": "python",
   "nbconvert_exporter": "python",
   "pygments_lexer": "ipython3",
   "version": "3.6.4"
  },
  "latex_envs": {
   "LaTeX_envs_menu_present": true,
   "autoclose": false,
   "autocomplete": true,
   "bibliofile": "biblio.bib",
   "cite_by": "apalike",
   "current_citInitial": 1,
   "eqLabelWithNumbers": true,
   "eqNumInitial": 1,
   "hotkeys": {
    "equation": "Ctrl-E",
    "itemize": "Ctrl-I"
   },
   "labels_anchors": false,
   "latex_user_defs": false,
   "report_style_numbering": false,
   "user_envs_cfg": false
  },
  "toc": {
   "nav_menu": {},
   "number_sections": true,
   "sideBar": true,
   "skip_h1_title": false,
   "title_cell": "Table of Contents",
   "title_sidebar": "Contents",
   "toc_cell": false,
   "toc_position": {
    "height": "802.6666870117188px",
    "left": "22px",
    "top": "137.6666717529297px",
    "width": "333.9705810546875px"
   },
   "toc_section_display": true,
   "toc_window_display": false
  }
 },
 "nbformat": 4,
 "nbformat_minor": 2
}
