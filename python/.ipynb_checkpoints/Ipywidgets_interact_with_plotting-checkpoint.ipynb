{
 "cells": [
  {
   "cell_type": "code",
   "execution_count": 1,
   "metadata": {},
   "outputs": [],
   "source": [
    "import pandas as pd\n",
    "import matplotlib\n",
    "%matplotlib inline"
   ]
  },
  {
   "cell_type": "markdown",
   "metadata": {},
   "source": [
    " ### Ok folks lets do some drug..... data analysis\n",
    "\n",
    "Data is brought to you buy FiveThirtyEight.com \n",
    "\n",
    "Here is the article they wrote about the data\n",
    "\n",
    "https://fivethirtyeight.com/features/how-baby-boomers-get-high/"
   ]
  },
  {
   "cell_type": "code",
   "execution_count": 2,
   "metadata": {},
   "outputs": [],
   "source": [
    "drug_use = pd.read_csv('https://raw.githubusercontent.com/resbaz/data/master/drug-use-by-age/drug-use-by-age.csv')"
   ]
  },
  {
   "cell_type": "code",
   "execution_count": 3,
   "metadata": {},
   "outputs": [
    {
     "data": {
      "text/html": [
       "<div>\n",
       "<style scoped>\n",
       "    .dataframe tbody tr th:only-of-type {\n",
       "        vertical-align: middle;\n",
       "    }\n",
       "\n",
       "    .dataframe tbody tr th {\n",
       "        vertical-align: top;\n",
       "    }\n",
       "\n",
       "    .dataframe thead th {\n",
       "        text-align: right;\n",
       "    }\n",
       "</style>\n",
       "<table border=\"1\" class=\"dataframe\">\n",
       "  <thead>\n",
       "    <tr style=\"text-align: right;\">\n",
       "      <th></th>\n",
       "      <th>age</th>\n",
       "      <th>n</th>\n",
       "      <th>alcohol-use</th>\n",
       "      <th>alcohol-frequency</th>\n",
       "      <th>marijuana-use</th>\n",
       "      <th>marijuana-frequency</th>\n",
       "      <th>cocaine-use</th>\n",
       "      <th>cocaine-frequency</th>\n",
       "      <th>crack-use</th>\n",
       "      <th>crack-frequency</th>\n",
       "      <th>...</th>\n",
       "      <th>oxycontin-use</th>\n",
       "      <th>oxycontin-frequency</th>\n",
       "      <th>tranquilizer-use</th>\n",
       "      <th>tranquilizer-frequency</th>\n",
       "      <th>stimulant-use</th>\n",
       "      <th>stimulant-frequency</th>\n",
       "      <th>meth-use</th>\n",
       "      <th>meth-frequency</th>\n",
       "      <th>sedative-use</th>\n",
       "      <th>sedative-frequency</th>\n",
       "    </tr>\n",
       "  </thead>\n",
       "  <tbody>\n",
       "    <tr>\n",
       "      <th>0</th>\n",
       "      <td>12</td>\n",
       "      <td>2798</td>\n",
       "      <td>3.9</td>\n",
       "      <td>3.0</td>\n",
       "      <td>1.1</td>\n",
       "      <td>4.0</td>\n",
       "      <td>0.1</td>\n",
       "      <td>5.0</td>\n",
       "      <td>0.0</td>\n",
       "      <td>-</td>\n",
       "      <td>...</td>\n",
       "      <td>0.1</td>\n",
       "      <td>24.5</td>\n",
       "      <td>0.2</td>\n",
       "      <td>52.0</td>\n",
       "      <td>0.2</td>\n",
       "      <td>2.0</td>\n",
       "      <td>0.0</td>\n",
       "      <td>-</td>\n",
       "      <td>0.2</td>\n",
       "      <td>13.0</td>\n",
       "    </tr>\n",
       "    <tr>\n",
       "      <th>1</th>\n",
       "      <td>13</td>\n",
       "      <td>2757</td>\n",
       "      <td>8.5</td>\n",
       "      <td>6.0</td>\n",
       "      <td>3.4</td>\n",
       "      <td>15.0</td>\n",
       "      <td>0.1</td>\n",
       "      <td>1.0</td>\n",
       "      <td>0.0</td>\n",
       "      <td>3.0</td>\n",
       "      <td>...</td>\n",
       "      <td>0.1</td>\n",
       "      <td>41.0</td>\n",
       "      <td>0.3</td>\n",
       "      <td>25.5</td>\n",
       "      <td>0.3</td>\n",
       "      <td>4.0</td>\n",
       "      <td>0.1</td>\n",
       "      <td>5.0</td>\n",
       "      <td>0.1</td>\n",
       "      <td>19.0</td>\n",
       "    </tr>\n",
       "    <tr>\n",
       "      <th>2</th>\n",
       "      <td>14</td>\n",
       "      <td>2792</td>\n",
       "      <td>18.1</td>\n",
       "      <td>5.0</td>\n",
       "      <td>8.7</td>\n",
       "      <td>24.0</td>\n",
       "      <td>0.1</td>\n",
       "      <td>5.5</td>\n",
       "      <td>0.0</td>\n",
       "      <td>-</td>\n",
       "      <td>...</td>\n",
       "      <td>0.4</td>\n",
       "      <td>4.5</td>\n",
       "      <td>0.9</td>\n",
       "      <td>5.0</td>\n",
       "      <td>0.8</td>\n",
       "      <td>12.0</td>\n",
       "      <td>0.1</td>\n",
       "      <td>24.0</td>\n",
       "      <td>0.2</td>\n",
       "      <td>16.5</td>\n",
       "    </tr>\n",
       "    <tr>\n",
       "      <th>3</th>\n",
       "      <td>15</td>\n",
       "      <td>2956</td>\n",
       "      <td>29.2</td>\n",
       "      <td>6.0</td>\n",
       "      <td>14.5</td>\n",
       "      <td>25.0</td>\n",
       "      <td>0.5</td>\n",
       "      <td>4.0</td>\n",
       "      <td>0.1</td>\n",
       "      <td>9.5</td>\n",
       "      <td>...</td>\n",
       "      <td>0.8</td>\n",
       "      <td>3.0</td>\n",
       "      <td>2.0</td>\n",
       "      <td>4.5</td>\n",
       "      <td>1.5</td>\n",
       "      <td>6.0</td>\n",
       "      <td>0.3</td>\n",
       "      <td>10.5</td>\n",
       "      <td>0.4</td>\n",
       "      <td>30.0</td>\n",
       "    </tr>\n",
       "    <tr>\n",
       "      <th>4</th>\n",
       "      <td>16</td>\n",
       "      <td>3058</td>\n",
       "      <td>40.1</td>\n",
       "      <td>10.0</td>\n",
       "      <td>22.5</td>\n",
       "      <td>30.0</td>\n",
       "      <td>1.0</td>\n",
       "      <td>7.0</td>\n",
       "      <td>0.0</td>\n",
       "      <td>1.0</td>\n",
       "      <td>...</td>\n",
       "      <td>1.1</td>\n",
       "      <td>4.0</td>\n",
       "      <td>2.4</td>\n",
       "      <td>11.0</td>\n",
       "      <td>1.8</td>\n",
       "      <td>9.5</td>\n",
       "      <td>0.3</td>\n",
       "      <td>36.0</td>\n",
       "      <td>0.2</td>\n",
       "      <td>3.0</td>\n",
       "    </tr>\n",
       "  </tbody>\n",
       "</table>\n",
       "<p>5 rows × 28 columns</p>\n",
       "</div>"
      ],
      "text/plain": [
       "  age     n  alcohol-use  alcohol-frequency  marijuana-use  \\\n",
       "0  12  2798          3.9                3.0            1.1   \n",
       "1  13  2757          8.5                6.0            3.4   \n",
       "2  14  2792         18.1                5.0            8.7   \n",
       "3  15  2956         29.2                6.0           14.5   \n",
       "4  16  3058         40.1               10.0           22.5   \n",
       "\n",
       "   marijuana-frequency  cocaine-use cocaine-frequency  crack-use  \\\n",
       "0                  4.0          0.1               5.0        0.0   \n",
       "1                 15.0          0.1               1.0        0.0   \n",
       "2                 24.0          0.1               5.5        0.0   \n",
       "3                 25.0          0.5               4.0        0.1   \n",
       "4                 30.0          1.0               7.0        0.0   \n",
       "\n",
       "  crack-frequency        ...          oxycontin-use oxycontin-frequency  \\\n",
       "0               -        ...                    0.1                24.5   \n",
       "1             3.0        ...                    0.1                41.0   \n",
       "2               -        ...                    0.4                 4.5   \n",
       "3             9.5        ...                    0.8                 3.0   \n",
       "4             1.0        ...                    1.1                 4.0   \n",
       "\n",
       "   tranquilizer-use  tranquilizer-frequency  stimulant-use  \\\n",
       "0               0.2                    52.0            0.2   \n",
       "1               0.3                    25.5            0.3   \n",
       "2               0.9                     5.0            0.8   \n",
       "3               2.0                     4.5            1.5   \n",
       "4               2.4                    11.0            1.8   \n",
       "\n",
       "  stimulant-frequency  meth-use  meth-frequency  sedative-use  \\\n",
       "0                 2.0       0.0               -           0.2   \n",
       "1                 4.0       0.1             5.0           0.1   \n",
       "2                12.0       0.1            24.0           0.2   \n",
       "3                 6.0       0.3            10.5           0.4   \n",
       "4                 9.5       0.3            36.0           0.2   \n",
       "\n",
       "  sedative-frequency  \n",
       "0               13.0  \n",
       "1               19.0  \n",
       "2               16.5  \n",
       "3               30.0  \n",
       "4                3.0  \n",
       "\n",
       "[5 rows x 28 columns]"
      ]
     },
     "execution_count": 3,
     "metadata": {},
     "output_type": "execute_result"
    }
   ],
   "source": [
    "drug_use.head()"
   ]
  },
  {
   "cell_type": "markdown",
   "metadata": {},
   "source": [
    "### What kinds of drugs are we doing.... analysis on?"
   ]
  },
  {
   "cell_type": "code",
   "execution_count": 4,
   "metadata": {
    "scrolled": true
   },
   "outputs": [
    {
     "data": {
      "text/plain": [
       "age                         object\n",
       "n                            int64\n",
       "alcohol-use                float64\n",
       "alcohol-frequency          float64\n",
       "marijuana-use              float64\n",
       "marijuana-frequency        float64\n",
       "cocaine-use                float64\n",
       "cocaine-frequency           object\n",
       "crack-use                  float64\n",
       "crack-frequency             object\n",
       "heroin-use                 float64\n",
       "heroin-frequency            object\n",
       "hallucinogen-use           float64\n",
       "hallucinogen-frequency     float64\n",
       "inhalant-use               float64\n",
       "inhalant-frequency          object\n",
       "pain-releiver-use          float64\n",
       "pain-releiver-frequency    float64\n",
       "oxycontin-use              float64\n",
       "oxycontin-frequency         object\n",
       "tranquilizer-use           float64\n",
       "tranquilizer-frequency     float64\n",
       "stimulant-use              float64\n",
       "stimulant-frequency        float64\n",
       "meth-use                   float64\n",
       "meth-frequency              object\n",
       "sedative-use               float64\n",
       "sedative-frequency         float64\n",
       "dtype: object"
      ]
     },
     "execution_count": 4,
     "metadata": {},
     "output_type": "execute_result"
    }
   ],
   "source": [
    "drug_use.dtypes"
   ]
  },
  {
   "cell_type": "code",
   "execution_count": 5,
   "metadata": {},
   "outputs": [
    {
     "data": {
      "text/plain": [
       "0      5.0\n",
       "1      1.0\n",
       "2      5.5\n",
       "3      4.0\n",
       "4      7.0\n",
       "5      5.0\n",
       "6      5.0\n",
       "7      5.5\n",
       "8      8.0\n",
       "9      5.0\n",
       "10     5.0\n",
       "11     6.0\n",
       "12     5.0\n",
       "13     8.0\n",
       "14    15.0\n",
       "15    36.0\n",
       "16       -\n",
       "Name: cocaine-frequency, dtype: object"
      ]
     },
     "execution_count": 5,
     "metadata": {},
     "output_type": "execute_result"
    }
   ],
   "source": [
    "drug_use['cocaine-frequency']"
   ]
  },
  {
   "cell_type": "code",
   "execution_count": 6,
   "metadata": {},
   "outputs": [],
   "source": [
    "# saw some objects in there so going to force them to by floats\n",
    "for column in list(drug_use.columns)[2:]:\n",
    "    drug_use[column] = pd.to_numeric(drug_use[column],errors = 'coerce')"
   ]
  },
  {
   "cell_type": "code",
   "execution_count": 7,
   "metadata": {},
   "outputs": [
    {
     "data": {
      "text/plain": [
       "age                         object\n",
       "n                            int64\n",
       "alcohol-use                float64\n",
       "alcohol-frequency          float64\n",
       "marijuana-use              float64\n",
       "marijuana-frequency        float64\n",
       "cocaine-use                float64\n",
       "cocaine-frequency          float64\n",
       "crack-use                  float64\n",
       "crack-frequency            float64\n",
       "heroin-use                 float64\n",
       "heroin-frequency           float64\n",
       "hallucinogen-use           float64\n",
       "hallucinogen-frequency     float64\n",
       "inhalant-use               float64\n",
       "inhalant-frequency         float64\n",
       "pain-releiver-use          float64\n",
       "pain-releiver-frequency    float64\n",
       "oxycontin-use              float64\n",
       "oxycontin-frequency        float64\n",
       "tranquilizer-use           float64\n",
       "tranquilizer-frequency     float64\n",
       "stimulant-use              float64\n",
       "stimulant-frequency        float64\n",
       "meth-use                   float64\n",
       "meth-frequency             float64\n",
       "sedative-use               float64\n",
       "sedative-frequency         float64\n",
       "dtype: object"
      ]
     },
     "execution_count": 7,
     "metadata": {},
     "output_type": "execute_result"
    }
   ],
   "source": [
    "drug_use.dtypes"
   ]
  },
  {
   "cell_type": "code",
   "execution_count": 8,
   "metadata": {},
   "outputs": [],
   "source": [
    "an_epic_party = ['alcohol',\n",
    "                 'marijuana',\n",
    "                 'cocaine',\n",
    "                 'crack',\n",
    "                 'heroin',\n",
    "                 'hallucinogen',\n",
    "                 'inhalant',\n",
    "                 'pain-releiver',\n",
    "                 'oxycontin',\n",
    "                 'tranquilizer',\n",
    "                 'stimulant',\n",
    "                 'meth',\n",
    "                 'sedative']"
   ]
  },
  {
   "cell_type": "markdown",
   "metadata": {},
   "source": [
    "## Let's plot my favorite"
   ]
  },
  {
   "cell_type": "code",
   "execution_count": 9,
   "metadata": {},
   "outputs": [
    {
     "name": "stderr",
     "output_type": "stream",
     "text": [
      "/Users/leo/anaconda3/lib/python3.6/site-packages/pandas/plotting/_core.py:1716: UserWarning: Pandas doesn't allow columns to be created via a new attribute name - see https://pandas.pydata.org/pandas-docs/stable/indexing.html#attribute-access\n",
      "  series.name = label\n"
     ]
    },
    {
     "data": {
      "text/plain": [
       "<matplotlib.legend.Legend at 0x10ce71da0>"
      ]
     },
     "execution_count": 9,
     "metadata": {},
     "output_type": "execute_result"
    },
    {
     "data": {
      "image/png": "[encoded data removed]",
      "text/plain": [
       "<matplotlib.figure.Figure at 0x107b8fbe0>"
      ]
     },
     "metadata": {},
     "output_type": "display_data"
    }
   ],
   "source": [
    "# Note thatyou can use the plotting routines to make a matplotlib axis object to work with down the line\n",
    "ax = drug_use.plot(kind = 'bar',x = 'age',y = ['alcohol-use','alcohol-frequency'],\n",
    "              secondary_y= ['alcohol-frequency'], figsize = (12,8))\n",
    "# Note these are movign the legends off the chart\n",
    "ax.legend(loc = (1.1,0.9))\n",
    "ax.right_ax.legend(loc=(1.1,0.8))"
   ]
  },
  {
   "cell_type": "markdown",
   "metadata": {},
   "source": [
    "### I love Panda's one line plotting functionality, but say we want to mix our drug....analyses, we wouldn't want to write a line for each of those (especially if we have tons of columns or plotting options)\n",
    "- All  we have to do is put our plotting into a function"
   ]
  },
  {
   "cell_type": "code",
   "execution_count": null,
   "metadata": {
    "collapsed": true
   },
   "outputs": [],
   "source": [
    "def drug_plot(drug = 'alcohol', drug_use = drug_use):\n",
    "    '''\n",
    "    Plotting function to plot the frequency and use of one\n",
    "    '''\n",
    "    du = drug+'-use' # just creating the column names from the drug input\n",
    "    df = drug+'-frequency'\n",
    "    ax = drug_use.plot(kind = 'bar',x = 'age',y = [du,df],\n",
    "              secondary_y= [df], figsize = (12,8))\n",
    "    # Note these are movign the legends off the chart\n",
    "    ax.legend(loc = (1.1,0.9))\n",
    "    ax.right_ax.legend(loc=(1.1,0.8))\n",
    "    ax.set_ylabel(du.replace('-',' ')+' metric')\n",
    "    ax.right_ax.set_ylabel(df.replace('-',' ')+' metric')\n",
    "    "
   ]
  },
  {
   "cell_type": "markdown",
   "metadata": {},
   "source": [
    "### Meet Ipywidget function called interact\n",
    "\n",
    "```python\n",
    "\n",
    "interact(function_you_want_to_interact_with, parameter1=[list or range of possible inputs], parameter 2 =.....)\n",
    "```"
   ]
  },
  {
   "cell_type": "code",
   "execution_count": null,
   "metadata": {},
   "outputs": [],
   "source": [
    "from ipywidgets import interact, fixed\n",
    "# all we need to do is specify here what function we are interacting with\n",
    "interact(drug_plot, drug = an_epic_party, drug_use = fixed(drug_use))"
   ]
  },
  {
   "cell_type": "markdown",
   "metadata": {},
   "source": [
    "### In conclusion, With one line of code, you can turn your Jupyter notebook into an interactive dashboard\n",
    " - and I have found it very useful for cycling through variables in multivariate datasets\n",
    " - and working through code with Luddit supervisors"
   ]
  },
  {
   "cell_type": "code",
   "execution_count": null,
   "metadata": {
    "collapsed": true
   },
   "outputs": [],
   "source": []
  }
 ],
 "metadata": {
  "kernelspec": {
   "display_name": "Python [conda env:anaconda3]",
   "language": "python",
   "name": "conda-env-anaconda3-py"
  },
  "language_info": {
   "codemirror_mode": {
    "name": "ipython",
    "version": 3
   },
   "file_extension": ".py",
   "mimetype": "text/x-python",
   "name": "python",
   "nbconvert_exporter": "python",
   "pygments_lexer": "ipython3",
   "version": "3.6.4"
  }
 },
 "nbformat": 4,
 "nbformat_minor": 2
}
